{
  "nbformat": 4,
  "nbformat_minor": 0,
  "metadata": {
    "colab": {
      "provenance": [],
      "authorship_tag": "ABX9TyPqNUBgB5sNyOyAsQaNrJdx",
      "include_colab_link": true
    },
    "kernelspec": {
      "name": "python3",
      "display_name": "Python 3"
    },
    "language_info": {
      "name": "python"
    }
  },
  "cells": [
    {
      "cell_type": "markdown",
      "metadata": {
        "id": "view-in-github",
        "colab_type": "text"
      },
      "source": [
        "<a href=\"https://colab.research.google.com/github/IlhamThrq/2025_PBO_TI1B/blob/main/Jobsheet-02.ipynb\" target=\"_parent\"><img src=\"https://colab.research.google.com/assets/colab-badge.svg\" alt=\"Open In Colab\"/></a>"
      ]
    },
    {
      "cell_type": "markdown",
      "source": [
        "# Jobsheet 02: Dasar Kelas dan Fungsi Pada Bahasa Pemrograman Python."
      ],
      "metadata": {
        "id": "bBFZq48vrpC0"
      }
    },
    {
      "cell_type": "markdown",
      "source": [
        "## Praktikum 1: Membuat dan Menggunakan Fungsi"
      ],
      "metadata": {
        "id": "tUj5idG8rzqQ"
      }
    },
    {
      "cell_type": "code",
      "source": [
        "# Fungsi Built-in\n",
        "# Fungsi print () adalah contoh fungsi built-in untuk mencetak output\n",
        "print (\"Ini adalah contoh fungsi built-in\")\n",
        "\n",
        "# Fungsi len () adalah contoh fungsi built-in untuk menghitung panjang suatu objek\n",
        "kata = \"Pemrograman\"\n",
        "panjang_kata = len(kata)\n",
        "print (f\"Panjang kata '{kata}' adalah: {panjang_kata}\")\n",
        "\n",
        "# Fungsi max () adalah contoh fungsi built-in untuk mencari nilai maksimum dari sebuah daftar\n",
        "angka = [10, 5, 30, 40, 25]\n",
        "nilai_max = max (angka)\n",
        "print (f\"Nilai maksimum dalam daftar adalah: {nilai_max}\")\n",
        "\n",
        "# Fungsi User-Defined\n",
        "# Fungsi dengan satu parameter (Menerima satu nilai input)\n",
        "def cetak_kuadrat (angka):\n",
        "    # Menghitung kuadrat dari angka yang diterima sebagai parameter\n",
        "    print (f\"Kuadrat dari {angka} adalah: {angka ** 2}\")\n",
        "\n",
        "# Fungsi dengan beberapa parameter (Menerima lebih dari satu nilai input)\n",
        "def hitung_luas_persegi_panjang (panjang, lebar) :\n",
        "    # Menghitung luas persegi panjang\n",
        "    return panjang * lebar\n",
        "\n",
        "# Fungsi dengan beberapa tipe parameter (Menerima berbagai jenis data)\n",
        "def info_mahasiswa (nama, umur, ipk) :\n",
        "    # Mencetak informasi mahasiswa\n",
        "    print (f\"Nama: {nama}, Umur:  {umur}, IPK: {ipk}\")\n",
        "\n",
        "# Fungsi tanpa return value (Non-return value)\n",
        "def sapa_pengguna (nama) :\n",
        "    # Fungsi ini hanya mencetak sapaan tanpa mengembalikan nilai\n",
        "    print (f\"Halo, {nama}! Selamat datang di dunia Python.\")\n",
        "\n",
        "# Fungsi dengan return value\n",
        "def hitung_keliling_persegi (sisi) :\n",
        "    # Mengembalikan keliling persegi\n",
        "    return 4 * sisi\n",
        "\n",
        "# Pemanggilan fungsi dengan satu parameter\n",
        "cetak_kuadrat (5)\n",
        "\n",
        "# Pemanggilan fungsi dengan beberapa parameter\n",
        "luas = hitung_luas_persegi_panjang (10, 5)\n",
        "print (f\"Luas persegi panjang: {luas}\")\n",
        "\n",
        "# Pemanggilan fungsi dengan beberapa tipe parameter\n",
        "info_mahasiswa (\"Budi\", 22, 3.8)\n",
        "\n",
        "# Pemanggilan fungsi tanpa return value\n",
        "sapa_pengguna (\"Andi\")\n",
        "\n",
        "# Pemanggilan fungsi dengan return value\n",
        "keliling = hitung_keliling_persegi (5)\n",
        "print (f\"Keliling persegi dengan sisi 5 adalah: {keliling}\")\n"
      ],
      "metadata": {
        "colab": {
          "base_uri": "https://localhost:8080/"
        },
        "id": "k7_i9RANr-wb",
        "outputId": "bff15192-6695-4ccc-edf9-f6ea3e6ba403"
      },
      "execution_count": null,
      "outputs": [
        {
          "output_type": "stream",
          "name": "stdout",
          "text": [
            "Ini adalah contoh fungsi built-in\n",
            "Panjang kata 'Pemrograman' adalah: 11\n",
            "Nilai maksimum dalam daftar adalah: 40\n",
            "Kuadrat dari 5 adalah: 25\n",
            "Luas persegi panjang: 50\n",
            "Nama: Budi, Umur:  22, IPK: 3.8\n",
            "Halo, Andi! Selamat datang di dunia Python.\n",
            "Keliling persegi dengan sisi 5 adalah: 20\n"
          ]
        }
      ]
    },
    {
      "cell_type": "markdown",
      "source": [
        "## Praktikum 2: Modularisasi Kode dengan Fungsi"
      ],
      "metadata": {
        "id": "PDP1hr8Ix-3a"
      }
    },
    {
      "cell_type": "markdown",
      "source": [
        "1. Pisahkan fungsi perhitungan luas dan keliling ke dalam modul *geometri.py*\n",
        "2. Buat file python pada google colab dengan cara\n",
        "  1. klik tombol files pada menu google colab,\n",
        "  2. tekan tombol new file,\n",
        "  3. ubah nama file menjadi *geometri.py*"
      ],
      "metadata": {
        "id": "mOFLGOrNEvFC"
      }
    },
    {
      "cell_type": "code",
      "source": [
        "# File utama main.py yang mengimpor modul geometri.py\n",
        "\n",
        "# Mengimpor modul geometri\n",
        "import geometri\n",
        "\n",
        "def main () :\n",
        "    # Menggunakan fungsi dari modul meong\n",
        "    luas_persegi = geometri.hitung_luas_persegi (5)\n",
        "    print (f\"Luas persegi dengan sisi 5 adalah: {luas_persegi}\")\n",
        "\n",
        "    luas_persegi_panjang = geometri.hitung_luas_persegi_panjang (10,5)\n",
        "    print (f\"Luas persegi panjang dengan panjang 10 dan lebar 5 adalah: {luas_persegi_panjang}\")\n",
        "\n",
        "    luas_lingkaran = geometri.hitung_luas_lingkaran (7)\n",
        "    print (f\"Luas lingkaran dengan jari-jari 7 adalah: {luas_lingkaran}\")\n",
        "\n",
        "if __name__ == \"__main__\" :\n",
        "    main ()\n"
      ],
      "metadata": {
        "colab": {
          "base_uri": "https://localhost:8080/"
        },
        "id": "y41reF0X0POU",
        "outputId": "0aafb7be-327e-4d83-9e69-897ec40b6336"
      },
      "execution_count": null,
      "outputs": [
        {
          "output_type": "stream",
          "name": "stdout",
          "text": [
            "Luas persegi dengan sisi 5 adalah: 25\n",
            "Luas persegi panjang dengan panjang 10 dan lebar 5 adalah: 50\n",
            "Luas lingkaran dengan jari-jari 7 adalah: 153.86\n"
          ]
        }
      ]
    },
    {
      "cell_type": "markdown",
      "source": [
        "## Praktikum 3: Membuat Kelas Sederhana"
      ],
      "metadata": {
        "id": "mtp6jEKk20Fd"
      }
    },
    {
      "cell_type": "code",
      "source": [
        "# Kelas Buku untuk merepresentasikan buku di perpustakaan\n",
        "class Buku:\n",
        "    def __init__(self, judul, pengarang, tahun_terbit):\n",
        "        self.judul = judul\n",
        "        self.pengarang = pengarang\n",
        "        self.tahun_terbit = tahun_terbit\n",
        "        self.status = \"Tersedia\"  # Status buku, default adalah Tersedia\n",
        "\n",
        "    def tampilkan_info(self):\n",
        "        print(f\"Judul: {self.judul}\")\n",
        "        print(f\"Pengarang: {self.pengarang}\")\n",
        "        print(f\"Tahun Terbit: {self.tahun_terbit}\")\n",
        "        print(f\"Status: {self.status}\")\n",
        "\n",
        "    def pinjam(self):\n",
        "        if self.status == \"Tersedia\":\n",
        "            self.status = \"Dipinjam\"\n",
        "            print(f\"Buku '{self.judul}' telah dipinjam.\")\n",
        "        else:\n",
        "            print(f\"Buku '{self.judul}' sedang dipinjam.\")\n",
        "\n",
        "    def kembalikan(self):\n",
        "        if self.status == \"Dipinjam\":\n",
        "            self.status = \"Tersedia\"\n",
        "            print(f\"Buku '{self.judul}' telah dikembalikan.\")\n",
        "        else:\n",
        "            print(f\"Buku '{self.judul}' tidak sedang dipinjam.\")\n",
        "\n",
        "# Membuat objek dari kelas Buku\n",
        "buku1 = Buku(\"Pemrograman Python\", \"John Doe\", 2021)\n",
        "buku2 = Buku(\"Data Science untuk Pemula\", \"Jane Smith\", 2020)\n",
        "\n",
        "# Menggunakan metode objek Buku\n",
        "buku1.tampilkan_info()\n",
        "buku2.pinjam()\n",
        "\n",
        "# Mengubah status buku dan menampilkan informasi\n",
        "buku2.kembalikan()\n",
        "buku1.pinjam()\n",
        "buku1.tampilkan_info()\n",
        "\n",
        "# ====================================================\n",
        "\n",
        "# Kelas Mahasiswa untuk merepresentasikan Mahasiswa dalam kelas\n",
        "class Mahasiswa:\n",
        "    # Konstruktor (__init__) untuk menginisialisasi atribut objek\n",
        "    def __init__(self, nama, nim, umur):\n",
        "        self.nama = nama  # Atribut objek nama\n",
        "        self.nim = nim    # Atribut objek NIM\n",
        "        self.umur = umur  # Atribut objek umur\n",
        "\n",
        "    # Metode untuk menampilkan informasi mahasiswa\n",
        "    def tampilkan_info(self):\n",
        "        print(f\"Nama : {self.nama}\")\n",
        "        print(f\"NIM  : {self.nim}\")\n",
        "        print(f\"Umur : {self.umur} tahun\")\n",
        "\n",
        "    # Metode untuk mengubah umur mahasiswa\n",
        "    def ubah_umur(self, umur_baru):\n",
        "        self.umur = umur_baru\n",
        "\n",
        "# Membuat objek (instance) dari kelas Mahasiswa\n",
        "mahasiswa1 = Mahasiswa(\"Andi\", \"12345\", 20)\n",
        "mahasiswa2 = Mahasiswa(\"Budi\", \"67890\", 22)\n",
        "\n",
        "# Menggunakan metode dari kelas Mahasiswa\n",
        "mahasiswa1.tampilkan_info()\n",
        "print()  # Baris kosong\n",
        "mahasiswa2.tampilkan_info()\n",
        "\n",
        "# Mengubah umur mahasiswa1 menggunakan metode ubah_umur\n",
        "mahasiswa1.ubah_umur(21)\n",
        "\n",
        "# Menampilkan info mahasiswa setelah umur diubah\n",
        "print(\"\\nSetelah mengubah umur mahasiswa1:\")\n",
        "mahasiswa1.tampilkan_info()\n"
      ],
      "metadata": {
        "colab": {
          "base_uri": "https://localhost:8080/"
        },
        "id": "kUPzGQZC247u",
        "outputId": "84437c44-4931-4251-fd15-e4ad65584d1f"
      },
      "execution_count": null,
      "outputs": [
        {
          "output_type": "stream",
          "name": "stdout",
          "text": [
            "Judul: Pemrograman Python\n",
            "Pengarang: John Doe\n",
            "Tahun Terbit: 2021\n",
            "Status: Tersedia\n",
            "Buku 'Data Science untuk Pemula' telah dipinjam.\n",
            "Buku 'Data Science untuk Pemula' telah dikembalikan.\n",
            "Buku 'Pemrograman Python' telah dipinjam.\n",
            "Judul: Pemrograman Python\n",
            "Pengarang: John Doe\n",
            "Tahun Terbit: 2021\n",
            "Status: Dipinjam\n",
            "Nama : Andi\n",
            "NIM  : 12345\n",
            "Umur : 20 tahun\n",
            "\n",
            "Nama : Budi\n",
            "NIM  : 67890\n",
            "Umur : 22 tahun\n",
            "\n",
            "Setelah mengubah umur mahasiswa1:\n",
            "Nama : Andi\n",
            "NIM  : 12345\n",
            "Umur : 21 tahun\n"
          ]
        }
      ]
    },
    {
      "cell_type": "markdown",
      "source": [
        "## Praktikum 4: Membuat dan Menggunakan Method dalam Kelas"
      ],
      "metadata": {
        "id": "3EdPB0dzCK-z"
      }
    },
    {
      "cell_type": "code",
      "source": [
        "# Kelas untuk menjelaskan atribut dan metode dalam kelas\n",
        "class Mobil:\n",
        "    def __init__(self, merk, warna, tahun, harga):\n",
        "        # Atribut yang dimiliki oleh objek Mobil\n",
        "        self.merk = merk\n",
        "        self.warna = warna\n",
        "        self.tahun = tahun\n",
        "        self.harga = harga\n",
        "\n",
        "    # Fungsi tanpa return value, hanya mencetak informasi\n",
        "    def tampilkan_info(self):\n",
        "        print(f\"Mobil {self.merk} berwarna {self.warna}, tahun {self.tahun}, harga: Rp {self.harga}\")\n",
        "\n",
        "    # Fungsi dengan satu parameter\n",
        "    def diskon(self, persen_diskon):\n",
        "        # Menghitung harga setelah diskon\n",
        "        diskon_harga = self.harga * (persen_diskon / 100)\n",
        "        harga_setelah_diskon = self.harga - diskon_harga\n",
        "        print(f\"Harga setelah diskon {persen_diskon}%: Rp {harga_setelah_diskon}\")\n",
        "        # Tidak mengembalikan nilai, hanya mencetak harga setelah diskon\n",
        "\n",
        "    # Fungsi dengan return value, menghitung usia mobil berdasarkan tahun\n",
        "    def hitung_usia(self, tahun_sekarang):\n",
        "        usia = tahun_sekarang - self.tahun\n",
        "        return usia\n",
        "\n",
        "    # Fungsi dengan beberapa parameter\n",
        "    def perbarui_harga(self, harga_baru, tahun_baru):\n",
        "        self.harga = harga_baru\n",
        "        self.tahun = tahun_baru\n",
        "        print(f\"Harga dan tahun mobil {self.merk} diperbarui menjadi Rp {self.harga} dan tahun {self.tahun}\")\n",
        "\n",
        "# Membuat objek mobil\n",
        "mobil1 = Mobil(\"Toyota\", \"Hitam\", 2015, 300000000)\n",
        "mobil2 = Mobil(\"Honda\", \"Merah\", 2018, 250000000)\n",
        "\n",
        "# Menggunakan metode tanpa return value\n",
        "mobil1.tampilkan_info()\n",
        "mobil2.tampilkan_info()\n",
        "\n",
        "# Menggunakan metode dengan satu parameter (diskon)\n",
        "mobil1.diskon(10)\n",
        "mobil2.diskon(15)\n",
        "\n",
        "# Menggunakan metode dengan return value (hitung usia mobil)\n",
        "usia_mobil1 = mobil1.hitung_usia(2025)\n",
        "usia_mobil2 = mobil2.hitung_usia(2025)\n",
        "\n",
        "print(f\"Usia mobil1 pada tahun 2025: {usia_mobil1} tahun\")\n",
        "print(f\"Usia mobil2 pada tahun 2025: {usia_mobil2} tahun\")\n",
        "\n",
        "# Menggunakan metode dengan beberapa parameter (perbarui harga dan tahun)\n",
        "mobil1.perbarui_harga(280000000, 2022)\n",
        "mobil2.perbarui_harga(240000000, 2021)\n"
      ],
      "metadata": {
        "colab": {
          "base_uri": "https://localhost:8080/"
        },
        "id": "4mejjKfRCjSF",
        "outputId": "2b6873fd-175f-4b0e-c416-fb3807ecb9fe"
      },
      "execution_count": null,
      "outputs": [
        {
          "output_type": "stream",
          "name": "stdout",
          "text": [
            "Mobil Toyota berwarna Hitam, tahun 2015, harga: Rp 300000000\n",
            "Mobil Honda berwarna Merah, tahun 2018, harga: Rp 250000000\n",
            "Harga setelah diskon 10%: Rp 270000000.0\n",
            "Harga setelah diskon 15%: Rp 212500000.0\n",
            "Usia mobil1 pada tahun 2025: 10 tahun\n",
            "Usia mobil2 pada tahun 2025: 7 tahun\n",
            "Harga dan tahun mobil Toyota diperbarui menjadi Rp 280000000 dan tahun 2022\n",
            "Harga dan tahun mobil Honda diperbarui menjadi Rp 240000000 dan tahun 2021\n"
          ]
        }
      ]
    },
    {
      "cell_type": "markdown",
      "source": [
        "## Penugasan Program Modularisasi dan Kelas Jadwal Kuliah"
      ],
      "metadata": {
        "id": "w_Pjl1ZaEpN5"
      }
    },
    {
      "cell_type": "markdown",
      "source": [
        "3.\tBuat Program: Lihat kembali praktikum 02. Modularisasi dan 03. Kelas sederahan. Buat program sederhana menggunakan dua konsep diatas tentang (Pilih salah satu: A. Penjualan HP, B. jadwal kelas, C. Parkir roda dua)."
      ],
      "metadata": {
        "id": "njYplyYzHqrT"
      }
    },
    {
      "cell_type": "code",
      "source": [
        "# Mengimpor modul jadwal\n",
        "import importlib\n",
        "importlib.reload(jadwal)\n",
        "\n",
        "import jadwal\n",
        "\n",
        "def main():\n",
        "    # Membuat objek jadwal kuliah\n",
        "    jadwal_kuliah = jadwal.JadwalKuliah()\n",
        "\n",
        "    # Menampilkan jadwal kuliah\n",
        "    jadwal_kuliah.tampilkan_jadwal()\n",
        "\n",
        "if __name__ == \"__main__\":\n",
        "    main()\n"
      ],
      "metadata": {
        "colab": {
          "base_uri": "https://localhost:8080/"
        },
        "id": "7wkiTAE8SxO7",
        "outputId": "2363dff4-7e78-40d9-d21b-28bd1397d725"
      },
      "execution_count": 52,
      "outputs": [
        {
          "output_type": "stream",
          "name": "stdout",
          "text": [
            "============================================================\n",
            "                    JADWAL KULIAH TI-1B\n",
            "============================================================\n",
            "\n",
            "===========================Senin============================\n",
            "Mata Kuliah               | Jam                | Ruang                | Dosen\n",
            "------------------------------------------------------------\n",
            "Bahasa Inggris            | 08:00 - 09:40      | GKT Ruang 805        | Bu Filda\n",
            "Sistem Basis Data 2       | 12:30 - 17:30      | MST Ruang 305        | Bu Wiktasari\n",
            "============================================================\n",
            "\n",
            "===========================Selasa===========================\n",
            "Mata Kuliah               | Jam                | Ruang                | Dosen\n",
            "------------------------------------------------------------\n",
            "Teknik Digital            | 07:00 - 11:30      | Lab Pemrograman      | Pak Nurseno\n",
            "============================================================\n",
            "\n",
            "============================Rabu============================\n",
            "Mata Kuliah               | Jam                | Ruang                | Dosen\n",
            "------------------------------------------------------------\n",
            "Jaringan Komputer         | 10:00 - 15:30      | Lab Jaringan Komputer | Pak Parsumo\n",
            "============================================================\n",
            "\n",
            "===========================Kamis============================\n",
            "Mata Kuliah               | Jam                | Ruang                | Dosen\n",
            "------------------------------------------------------------\n",
            "Kewarganegaraan           | 07:00 - 09:30      | MST Ruang 806        | Bu Nur\n",
            "PBO                       | 10:00 - 14:40      | GKT Ruang 803        | Pak Prayitno\n",
            "============================================================\n",
            "\n",
            "===========================Jumat============================\n",
            "Mata Kuliah               | Jam                | Ruang                | Dosen\n",
            "------------------------------------------------------------\n",
            "Statistika                | 08:00 - 09:40      | MST Ruang 305        | Bu Iswanti\n",
            "Kecerdasan Buatan         | 09:15 - 11:30      | MST Ruang 306        | Bu Sirly\n",
            "============================================================\n"
          ]
        }
      ]
    },
    {
      "cell_type": "code",
      "source": [
        "# Kelas untuk menyimpan dan menampilkan jadwal kuliah Politeknik Negeri Semarang\n",
        "class JadwalKuliah:\n",
        "    def __init__(self):\n",
        "        # Jadwal kuliah dalam format {Hari: [(Mata Kuliah, Jam, Ruang, Dosen)]}\n",
        "        self.jadwal = {\n",
        "            \"Senin\": [\n",
        "                (\"Bahasa Inggris\", \"08:00 - 09:40\", \"GKT Ruang 805\", \"Bu Filda\"),\n",
        "                (\"Sistem Basis Data 2\", \"12:30 - 17:30\", \"MST Ruang 305\", \"Bu Wiktasari\")\n",
        "            ],\n",
        "            \"Selasa\": [\n",
        "                (\"Teknik Digital dan Sistem Tertanama\", \"07:00 - 11:30\", \"Lab Pemrograman\", \"Pak Nurseno\")\n",
        "            ],\n",
        "            \"Rabu\": [\n",
        "                (\"Jaringan Komputer\", \"10:00 - 15:30\", \"Lab Jaringan Komputer\", \"Pak Parsumo\")\n",
        "            ],\n",
        "            \"Kamis\": [\n",
        "                (\"Kewarganegaraan\", \"07:00 - 09:30\", \"MST Ruang 806\", \"Bu Nur\"),\n",
        "                (\"Pemrograman Berorientasi Objek\", \"10:00 - 14:40\", \"GKT Ruang 803\", \"Pak Prayitno\")\n",
        "            ],\n",
        "            \"Jumat\": [\n",
        "                (\"Statistika\", \"08:00 - 09:40\", \"MST Ruang 305\", \"Bu Iswanti\"),\n",
        "                (\"Kecerdasan Buatan\", \"09:15 - 11:30\", \"MST Ruang 306\", \"Bu Sirly\")\n",
        "            ],\n",
        "        }\n",
        "\n",
        "    def tampilkan_jadwal(self):\n",
        "        \"\"\"Menampilkan jadwal kuliah\"\"\"\n",
        "        print(\"=\" * 60)\n",
        "        print(\" \" * 20 + \"JADWAL KULIAH TI-1B\")\n",
        "        print(\"=\" * 60)\n",
        "\n",
        "        for hari, mata_kuliah in self.jadwal.items():\n",
        "            print(f\"\\n{hari.center(60, '=')}\")\n",
        "\n",
        "            # Menampilkan header tabel\n",
        "            print(f\"{'Mata Kuliah'.ljust(25)} | {'Jam'.ljust(18)} | {'Ruang'.ljust(20)} | Dosen\")\n",
        "            print(\"-\" * 60)\n",
        "\n",
        "            for mk, jam, ruang, dosen in mata_kuliah:\n",
        "                print(f\"{mk.ljust(25)} | {jam.ljust(18)} | {ruang.ljust(20)} | {dosen}\")\n",
        "\n",
        "            print(\"=\" * 60)\n"
      ],
      "metadata": {
        "id": "g2JEOqF9TRXQ"
      },
      "execution_count": 53,
      "outputs": []
    }
  ]
}