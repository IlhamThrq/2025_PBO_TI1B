{
  "nbformat": 4,
  "nbformat_minor": 0,
  "metadata": {
    "colab": {
      "provenance": [],
      "authorship_tag": "ABX9TyNR3DYUEGlPb+g3NH7VV5hZ",
      "include_colab_link": true
    },
    "kernelspec": {
      "name": "python3",
      "display_name": "Python 3"
    },
    "language_info": {
      "name": "python"
    }
  },
  "cells": [
    {
      "cell_type": "markdown",
      "metadata": {
        "id": "view-in-github",
        "colab_type": "text"
      },
      "source": [
        "<a href=\"https://colab.research.google.com/github/IlhamThrq/2025_PBO_TI1B/blob/main/jobsheet_04.ipynb\" target=\"_parent\"><img src=\"https://colab.research.google.com/assets/colab-badge.svg\" alt=\"Open In Colab\"/></a>"
      ]
    },
    {
      "cell_type": "markdown",
      "source": [
        "# Jobsheet 04: MEMAHAMI PEWARISAN (INHERITANCE) DALAM PYTHON"
      ],
      "metadata": {
        "id": "QuDEOMGGzfWb"
      }
    },
    {
      "cell_type": "markdown",
      "source": [
        "## A. Langkah Praktikum"
      ],
      "metadata": {
        "id": "dtvwi8jpzrpb"
      }
    },
    {
      "cell_type": "markdown",
      "source": [
        "### Praktikum 01: Inheritance Dasar"
      ],
      "metadata": {
        "id": "EOMZHHGh0EJQ"
      }
    },
    {
      "cell_type": "code",
      "source": [
        "# Kelas Induk\n",
        "class Kendaraan:\n",
        "    def __init__(self, merk):\n",
        "        self.merk = merk\n",
        "\n",
        "    def mulai_mesin(self):\n",
        "        print(f\"Mesin kendaraan {self.merk} dinyalakan.\")\n",
        "\n",
        "# Kelas Anak (Mewarisi dari Kendaraan)\n",
        "class Mobil (Kendaraan):\n",
        "    def __init__(self, merk, warna):\n",
        "        # Memanggil __init__kelas induk (akan dibahas di Praktikum-02)\n",
        "        # Untuk sekarang, kita set merk secara manual\n",
        "        self.merk = merk # Mewarisi 'merk' tapi di-set ulang disini\\\n",
        "        self.warna = warna # Atribut khusus Mobil\n",
        "\n",
        "    def info_mobil(self):\n",
        "        print(f\"Ini adalah mobil {self.merk} berwarna {self.warna}.\")\n",
        "\n",
        "# ---Kode Utama---\n",
        "if __name__ == \"__main__\":\n",
        "    mobil_tesla = Mobil (\"Tesla Model S\" , \"Merah\")\n",
        "    # Memanggil metode dari kelas anak\n",
        "    mobil_tesla.info_mobil()\n",
        "\n",
        "    # Memanggil metode yang diwarisi dari kelas induk\n",
        "    mobil_tesla.mulai_mesin()\n",
        "\n",
        "    # Mengakses attribut yang diwarisi (dan di-set di anak)\n",
        "    print(f\"Merk mobil: {mobil_tesla.merk}\")"
      ],
      "metadata": {
        "colab": {
          "base_uri": "https://localhost:8080/"
        },
        "id": "x-_UAYHc27jq",
        "outputId": "0e4707d0-59bf-4e7e-97d1-93113aafe27f"
      },
      "execution_count": null,
      "outputs": [
        {
          "output_type": "stream",
          "name": "stdout",
          "text": [
            "Ini adalah mobil Tesla Model S berwarna Merah.\n",
            "Mesin kendaraan Tesla Model S dinyalakan.\n",
            "Merk mobil: Tesla Model S\n"
          ]
        }
      ]
    },
    {
      "cell_type": "markdown",
      "source": [
        "### Praktikum 02: Menggunakan super() dalam konstruktor"
      ],
      "metadata": {
        "id": "RZp1t8TN0JzG"
      }
    },
    {
      "cell_type": "code",
      "source": [
        "# Kelas Induk\n",
        "class Person:\n",
        "    def __init__(self, nama, usia):\n",
        "        print(f\"(Memanggil __init__Person untuk '{nama}')\")\n",
        "        self.nama = nama\n",
        "        self.usia = usia\n",
        "\n",
        "    def perkenalkan_diri(self):\n",
        "        print(f\"Halo, nama saya {self.nama}, usia saya {self.usia} tahun.\")\n",
        "\n",
        "# Kelas Anak (mewarisi dari Person)\n",
        "class Student(Person):\n",
        "    def __init__(self, nama, usia, student_id, jurusan):\n",
        "        print(f\"(Memanggil __init__Student untuk '{nama}')\")\n",
        "        # Memanggil __init__ dari kelas Person untuk inisialisasi nama dan usia\n",
        "        super().__init__(nama, usia)\n",
        "        # Menambahkan attribut khusus Student\n",
        "        self.student_id = student_id\n",
        "        self.jurusan = jurusan\n",
        "        print(f\"(Inisialisasi attribut Student selesai untuk '{nama}')\")\n",
        "\n",
        "    def info_akademik(self):\n",
        "        print(f\"ID Mahasiswa: {self.student_id}\")\n",
        "        print(f\"Jurusan: {self.jurusan}\")\n",
        "\n",
        "    # Override perkenalan_diri untuk menambahkan info student\n",
        "    def perkenalkan_diri(self):\n",
        "        super().perkenalkan_diri() # Panggil versi Person\n",
        "        print(f\"Saya adalah mahasiswa dengan ID {self.student_id}, jurusan {self.jurusan}.\")\n",
        "\n",
        "#---Kode Utama---\n",
        "if __name__==\"__main__\":\n",
        "    # Membuat objek Person\n",
        "    dosen = Person(\"Pak Anton\", 45)\n",
        "    print(\"-\" * 20)\n",
        "    dosen.perkenalkan_diri()\n",
        "    print(\"\\n\" + \"-\" * 30 + \"\\n\")\n",
        "\n",
        "    # Membuat objek Student\n",
        "    mahasiswa = Student(\"Dewi\", 20, \"MHS001\", \"Teknik Komputer\")\n",
        "    print(\"-\" * 20)\n",
        "    mahasiswa.perkenalkan_diri() # Panggil versi override di Student\n",
        "    print(\"-\" * 20)\n",
        "    mahasiswa.info_akademik() # Panggil metode khusus Student\n",
        "\n",
        "    # Cek atribut yang diwarisi\n",
        "    print(f\"\\nUsia mahasiswa {mahasiswa.nama}: {mahasiswa.usia}\") # usia diwarisi dari Person"
      ],
      "metadata": {
        "colab": {
          "base_uri": "https://localhost:8080/"
        },
        "id": "DhM3PDZxADw9",
        "outputId": "58957d18-2afc-4a65-f26e-5282e6eca7ef"
      },
      "execution_count": null,
      "outputs": [
        {
          "output_type": "stream",
          "name": "stdout",
          "text": [
            "(Memanggil __init__Person untuk 'Pak Anton')\n",
            "--------------------\n",
            "Halo, nama saya Pak Anton, usia saya 45 tahun.\n",
            "\n",
            "------------------------------\n",
            "\n",
            "(Memanggil __init__Student untuk 'Dewi')\n",
            "(Memanggil __init__Person untuk 'Dewi')\n",
            "(Inisialisasi attribut Student selesai untuk 'Dewi')\n",
            "--------------------\n",
            "Halo, nama saya Dewi, usia saya 20 tahun.\n",
            "Saya adalah mahasiswa dengan ID MHS001, jurusan Teknik Komputer.\n",
            "--------------------\n",
            "ID Mahasiswa: MHS001\n",
            "Jurusan: Teknik Komputer\n",
            "\n",
            "Usia mahasiswa Dewi: 20\n"
          ]
        }
      ]
    },
    {
      "cell_type": "markdown",
      "source": [
        "### Praktikum 03: Method Overriding dan Super()"
      ],
      "metadata": {
        "id": "kPloPEjY0Uy4"
      }
    },
    {
      "cell_type": "code",
      "source": [
        "# Kelas Induk\n",
        "class Hewan:\n",
        "    def __init__(self, nama):\n",
        "        self.nama = nama\n",
        "\n",
        "    def bersuara(self):\n",
        "        print(f\"{self.nama} mengeluarkan suara generik.\")\n",
        "\n",
        "    def tampilkan_info(self):\n",
        "        print(f\"Ini adalah hewan bernama {self.nama}\")\n",
        "\n",
        "# Kelas Anak\n",
        "class Kucing(Hewan):\n",
        "    def __init__(self, nama, ras):\n",
        "        super().__init__(nama) # Panggil init induk\n",
        "        self.ras = ras\n",
        "\n",
        "    # Method Overriding untuk bersuara\n",
        "    def bersuara(self):\n",
        "        print(f\"{self.nama} (Kucing) mengong: Meow!\")\n",
        "\n",
        "    # Method Overriding untuk tampilkan_info, memanggil versi induk\n",
        "    def tampilkan_info(self):\n",
        "        super().tampilkan_info() # Panggil implementasi dari Hewan\n",
        "        print(f\"Ini adalah Kucing ras {self.ras}.\") # Tambahkan info spesifik\n",
        "\n",
        "# ---Kode Utama---\n",
        "if __name__==\"__main__\":\n",
        "    hewan_umum = Hewan(\"Makhluk\")\n",
        "    kucing_persia = Kucing(\"Puspus\", \"Persia\")\n",
        "\n",
        "    print(\"Info Hewan Umum:\")\n",
        "    hewan_umum.tampilkan_info()\n",
        "    hewan_umum.bersuara()\n",
        "    print(\"-\" * 20)\n",
        "\n",
        "    print(\"Info Kucing Persia:\")\n",
        "    kucing_persia.tampilkan_info() # Akan memanggil versi kucing\n",
        "    kucing_persia.bersuara() # Akan memanggil versi kucing"
      ],
      "metadata": {
        "colab": {
          "base_uri": "https://localhost:8080/"
        },
        "id": "P91v6v0yG3j7",
        "outputId": "2b61f85b-b14b-416a-c3c4-8347c7a673af"
      },
      "execution_count": null,
      "outputs": [
        {
          "output_type": "stream",
          "name": "stdout",
          "text": [
            "Info Hewan Umum:\n",
            "Ini adalah hewan bernama Makhluk\n",
            "Makhluk mengeluarkan suara generik.\n",
            "--------------------\n",
            "Info Kucing Persia:\n",
            "Ini adalah hewan bernama Puspus\n",
            "Ini adalah Kucing ras Persia.\n",
            "Puspus (Kucing) mengong: Meow!\n"
          ]
        }
      ]
    },
    {
      "cell_type": "markdown",
      "source": [
        "### Praktikum 04: Multi-level inheritance (Pewangi Bertingkat)"
      ],
      "metadata": {
        "id": "HfsFFv5n0fM5"
      }
    },
    {
      "cell_type": "code",
      "source": [
        "# Kelas Induk Level 1\n",
        "class Organisme:\n",
        "    def __init__(self, nama):\n",
        "        self.nama = nama\n",
        "        print(f\"Organisme '{self.nama}' diciptakan.\")\n",
        "\n",
        "    def bernapas(self):\n",
        "        print(f\"{self.nama} sedang bernapas.\")\n",
        "\n",
        "# Kelas Anak Level 1 (Mewarisi dari Organisme)\n",
        "class Hewan(Organisme):\n",
        "    def __init__(self, nama, jenis_makanan):\n",
        "        super().__init__(nama) # Panggil ini Organisme\n",
        "        self.jenis_makanan = jenis_makanan\n",
        "        print(f\"Hewan '{self.nama}' adalah {self.jenis_makanan}.\")\n",
        "\n",
        "    def bergerak(self):\n",
        "        print(f\"{self.nama} sedang bergerak.\")\n",
        "\n",
        "# Kelas Anak Level 2 (Mewarisi dari Hewan)\n",
        "class Mamalia(Hewan):\n",
        "    def __init__(self, nama, jenis_makanan, jumlah_kaki):\n",
        "        super().__init__(nama, jenis_makanan) # Panggil init Hewan\n",
        "        self.jumlah_kaki = jumlah_kaki\n",
        "        print(f\"Mamalia '{self.nama}' memiliki {self.jumlah_kaki} kaki.\")\n",
        "\n",
        "    def menyusui(self):\n",
        "        print(f\"{self.nama} sedang menyusui.\")\n",
        "\n",
        "# ---Kode Utama---\n",
        "if __name__==\"__main__\":\n",
        "    kucing = Mamalia(\"Kucing Persia\", \"Karnivora\", 4)\n",
        "    print(\"-\" * 20)\n",
        "\n",
        "    # Memanggil metode dari kelas Mamalia\n",
        "    kucing.menyusui()\n",
        "\n",
        "    # Memanggil metode yang diwarisi dari kelas Hewan\n",
        "    kucing.bergerak()\n",
        "    print(f\"Jenis makanan: {kucing.jenis_makanan}\")\n",
        "\n",
        "    # Memanggil metode yang diwarisi dari kelas Organisme\n",
        "    kucing.bernapas()\n",
        "    print(f\"Nama Organisme: {kucing.nama}\")"
      ],
      "metadata": {
        "colab": {
          "base_uri": "https://localhost:8080/"
        },
        "id": "B5WFNE5PKgqJ",
        "outputId": "ecabec84-6b40-4099-bb1b-6fb9092be7ad"
      },
      "execution_count": null,
      "outputs": [
        {
          "output_type": "stream",
          "name": "stdout",
          "text": [
            "Organisme 'Kucing Persia' diciptakan.\n",
            "Hewan 'Kucing Persia' adalah Karnivora.\n",
            "Mamalia 'Kucing Persia' memiliki 4 kaki.\n",
            "--------------------\n",
            "Kucing Persia sedang menyusui.\n",
            "Kucing Persia sedang bergerak.\n",
            "Jenis makanan: Karnivora\n",
            "Kucing Persia sedang bernapas.\n",
            "Nama Organisme: Kucing Persia\n"
          ]
        }
      ]
    },
    {
      "cell_type": "markdown",
      "source": [
        "### Praktikum 05: Hierarchical Inheritance"
      ],
      "metadata": {
        "id": "kV6zcwKw0q0a"
      }
    },
    {
      "cell_type": "code",
      "source": [
        "!apt-get install -y locales\n",
        "!locale-gen id_ID.UTF-8\n",
        "!update-locale"
      ],
      "metadata": {
        "colab": {
          "base_uri": "https://localhost:8080/"
        },
        "id": "1-ucpGxNU2cT",
        "outputId": "a35b4733-4bb2-4e7c-c7b1-e2346e8fa304"
      },
      "execution_count": null,
      "outputs": [
        {
          "output_type": "stream",
          "name": "stdout",
          "text": [
            "Reading package lists... Done\n",
            "Building dependency tree... Done\n",
            "Reading state information... Done\n",
            "locales is already the newest version (2.35-0ubuntu3.9).\n",
            "0 upgraded, 0 newly installed, 0 to remove and 34 not upgraded.\n",
            "Generating locales (this might take a while)...\n",
            "  id_ID.UTF-8... done\n",
            "Generation complete.\n"
          ]
        }
      ]
    },
    {
      "cell_type": "code",
      "source": [
        "import locale\n",
        "\n",
        "# Set locale ke Indonesia untuk format mata uang\n",
        "try:\n",
        "    locale.setlocale(locale.LC_ALL, 'id_ID.UTF-8')\n",
        "except locale.Error:\n",
        "    print(\"Locale id_ID.UTF-8 tidak tersedia, menggunakan locale default.\")\n",
        "\n",
        "# Fungsi helper untuk format mata uang\n",
        "def format_rupiah(angka):\n",
        "    return locale.currency(angka, grouping=True, symbol='Rp')\n",
        "\n",
        "# Kelas Induk\n",
        "class Pegawai:\n",
        "    def __init__(self, nama, id_pegawai, gaji_pokok):\n",
        "        self.nama = nama\n",
        "        self.id_pegawai = id_pegawai\n",
        "        self.gaji_pokok = gaji_pokok\n",
        "\n",
        "    def hitung_gaji(self):\n",
        "      # Gaji dasar, bisa di-override\n",
        "      return self.gaji_pokok\n",
        "\n",
        "    def tampilkan_info(self):\n",
        "        print(f\"ID: {self.id_pegawai}, Nama: {self.nama}\")\n",
        "        print(f\"Gaji Pokok: {format_rupiah(self.gaji_pokok)}\")\n",
        "\n",
        "# Kelas Anak 1\n",
        "class Manager(Pegawai):\n",
        "    def __init__(self, nama, id_pegawai, gaji_pokok, tunjangan_jabatan):\n",
        "        super().__init__(nama, id_pegawai, gaji_pokok)\n",
        "        self.tunjangan_jabatan = tunjangan_jabatan\n",
        "\n",
        "    # Override hitung_gaji\n",
        "    def hitung_gaji(self):\n",
        "        gaji_total = super().hitung_gaji() + self.tunjangan_jabatan\n",
        "        return gaji_total\n",
        "\n",
        "    # Override tampilkan_info (memanggil versi induk)\n",
        "    def tampilkan_info(self):\n",
        "        print(\"--- Info Manager ---\")\n",
        "        super().tampilkan_info() # Panggil info dasar dari Pegawai\n",
        "        print(f\"Tunjangan Jabatan: {format_rupiah(self.tunjangan_jabatan)}\")\n",
        "        print(f\"Total Gaji: {format_rupiah(self.hitung_gaji())}\")\n",
        "\n",
        "# Kelas Anak 2\n",
        "class StaffTeknis(Pegawai):\n",
        "    def __init__(self, nama, id_pegawai, gaji_pokok, keahlian, bonus_keahlian):\n",
        "        super().__init__(nama, id_pegawai, gaji_pokok)\n",
        "        self.keahlian = keahlian\n",
        "        self.bonus_keahlian = bonus_keahlian\n",
        "\n",
        "    # Override tampilkan_info (memanggil versi induk)\n",
        "    def tampilkan_info(self):\n",
        "        print(\"--- Info Staf Teknis ---\")\n",
        "        super().tampilkan_info() # Panggil info dasar dari Pegawai\n",
        "        print(f\"Keahlian: {self.keahlian}\")\n",
        "        print(f\"Bonus Keahlian: {format_rupiah(self.bonus_keahlian)}\")\n",
        "        print(f\"Total Gaji: {format_rupiah(self.hitung_gaji())}\")\n",
        "\n",
        "# --- Kode Utama ---\n",
        "if __name__==\"__main__\":\n",
        "    manager1 = Manager(\"Budi Santoso\", \"M001\", 10000000, 5000000)\n",
        "    staff1 = StaffTeknis(\"Citra Lestari\", \"S001\", 7000000, \"Python Programming\", 1500000)\n",
        "    pegawai_baru = Pegawai(\"Rian\", \"P005\", 5000000) # Pegawai Biasa\n",
        "\n",
        "    print(\"Menampilkan Informasi Pegawai:\")\n",
        "    manager1.tampilkan_info()\n",
        "    print(\"-\" * 30)\n",
        "    staff1.tampilkan_info()\n",
        "    print(\"-\" * 30)\n",
        "\n",
        "    print(\"--- Info Pegawai Baru ---\")\n",
        "    pegawai_baru.tampilkan_info()\n",
        "    print(f\"Total Gaji: {format_rupiah(pegawai_baru.hitung_gaji())}\") # Memanggil versi Pegawai\n",
        "    print(\"-\" * 30)"
      ],
      "metadata": {
        "colab": {
          "base_uri": "https://localhost:8080/"
        },
        "id": "p7Q5xLOiVL2X",
        "outputId": "8e0892e9-c4bd-47cd-bcf0-2edd8ad31b9f"
      },
      "execution_count": null,
      "outputs": [
        {
          "output_type": "stream",
          "name": "stdout",
          "text": [
            "Menampilkan Informasi Pegawai:\n",
            "--- Info Manager ---\n",
            "ID: M001, Nama: Budi Santoso\n",
            "Gaji Pokok: Rp10.000.000,00\n",
            "Tunjangan Jabatan: Rp5.000.000,00\n",
            "Total Gaji: Rp15.000.000,00\n",
            "------------------------------\n",
            "--- Info Staf Teknis ---\n",
            "ID: S001, Nama: Citra Lestari\n",
            "Gaji Pokok: Rp7.000.000,00\n",
            "Keahlian: Python Programming\n",
            "Bonus Keahlian: Rp1.500.000,00\n",
            "Total Gaji: Rp7.000.000,00\n",
            "------------------------------\n",
            "--- Info Pegawai Baru ---\n",
            "ID: P005, Nama: Rian\n",
            "Gaji Pokok: Rp5.000.000,00\n",
            "Total Gaji: Rp5.000.000,00\n",
            "------------------------------\n"
          ]
        }
      ]
    },
    {
      "cell_type": "markdown",
      "source": [
        "### Praktikum 06: Memeriksa Tipe Instance dengan Instance()"
      ],
      "metadata": {
        "id": "g5NpSo8n02si"
      }
    },
    {
      "cell_type": "code",
      "source": [
        "class BentukGeometri:\n",
        "    def __init__(self, nama_bentuk):\n",
        "        self.nama = nama_bentuk\n",
        "\n",
        "    def tampilkan_nama(self):\n",
        "        print(f\"Ini adalah bentuk: {self.nama}\")\n",
        "\n",
        "    def hitung_luas(self):\n",
        "        print(f\"Luas {self.nama} tidak dapat dihitung (generik).\")\n",
        "\n",
        "\n",
        "class PersegiPanjang(BentukGeometri):\n",
        "    def __init__(self, panjang, lebar):\n",
        "        super().__init__(\"Persegi Panjang\")\n",
        "        self.panjang = panjang\n",
        "        self.lebar = lebar\n",
        "\n",
        "    def hitung_luas(self):\n",
        "        luas = self.panjang * self.lebar\n",
        "        print(f\"Luas {self.nama}: {luas}\")\n",
        "\n",
        "\n",
        "class Segitiga(BentukGeometri):\n",
        "    def __init__(self, alas, tinggi):\n",
        "        super().__init__(\"Segitiga\")\n",
        "        self.alas = alas\n",
        "        self.tinggi = tinggi\n",
        "\n",
        "    def hitung_luas(self):\n",
        "        luas = 0.5 * self.alas * self.tinggi\n",
        "        print(f\"Luas {self.nama}: {luas}\")\n",
        "\n",
        "\n",
        "def proses_bentuk(bentuk):\n",
        "    print(f\"\\nMemproses objek: {type(bentuk)}\")\n",
        "\n",
        "    if isinstance(bentuk, BentukGeometri):\n",
        "        bentuk.tampilkan_nama()\n",
        "        print(\"Objek ini adalah instance dari BentukGeometri (atau turunannya).\")\n",
        "\n",
        "        if isinstance(bentuk, PersegiPanjang):\n",
        "            print(\"-> Objek ini juga instance dari PersegiPanjang.\")\n",
        "        elif isinstance(bentuk, Segitiga):\n",
        "            print(\"-> Objek ini juga instance dari Segitiga.\")\n",
        "    else:\n",
        "        print(\"Objek ini BUKAN instance dari BentukGeometri.\")\n",
        "\n",
        "\n",
        "# --- Kode Utama ---\n",
        "if __name__ == \"__main__\":\n",
        "    pp = PersegiPanjang(4, 3)\n",
        "    seg = Segitiga(5, 2)\n",
        "    bg = BentukGeometri(\"Lingkaran\")  # Contoh lain\n",
        "    teks = \"Ini String\"\n",
        "\n",
        "    daftar_objek = [pp, seg, bg, teks]\n",
        "\n",
        "    for obj in daftar_objek:\n",
        "        proses_bentuk(obj)\n"
      ],
      "metadata": {
        "colab": {
          "base_uri": "https://localhost:8080/"
        },
        "id": "hdc1dYmyxRH9",
        "outputId": "b725cfe9-9a0e-4e71-af4e-7e530263e1d3"
      },
      "execution_count": null,
      "outputs": [
        {
          "output_type": "stream",
          "name": "stdout",
          "text": [
            "\n",
            "Memproses objek: <class '__main__.PersegiPanjang'>\n",
            "Ini adalah bentuk: Persegi Panjang\n",
            "Objek ini adalah instance dari BentukGeometri (atau turunannya).\n",
            "-> Objek ini juga instance dari PersegiPanjang.\n",
            "\n",
            "Memproses objek: <class '__main__.Segitiga'>\n",
            "Ini adalah bentuk: Segitiga\n",
            "Objek ini adalah instance dari BentukGeometri (atau turunannya).\n",
            "-> Objek ini juga instance dari Segitiga.\n",
            "\n",
            "Memproses objek: <class '__main__.BentukGeometri'>\n",
            "Ini adalah bentuk: Lingkaran\n",
            "Objek ini adalah instance dari BentukGeometri (atau turunannya).\n",
            "\n",
            "Memproses objek: <class 'str'>\n",
            "Objek ini BUKAN instance dari BentukGeometri.\n"
          ]
        }
      ]
    },
    {
      "cell_type": "markdown",
      "source": [
        "## B. Penugasan"
      ],
      "metadata": {
        "id": "nDahBIOYz9IN"
      }
    },
    {
      "cell_type": "markdown",
      "source": [
        "Membuat Program Hierarki Kelas Mahasiswa"
      ],
      "metadata": {
        "id": "Xuvov8h64CXb"
      }
    },
    {
      "cell_type": "code",
      "source": [
        "# Kelas Induk\n",
        "class Mahasiswa:\n",
        "    def __init__(self, nama, nim, ipk):\n",
        "        self.nama = nama\n",
        "        self.nim = nim\n",
        "        self.ipk = ipk\n",
        "\n",
        "    def tampilkan_info(self):\n",
        "        print(f\"Nama: {self.nama}\")\n",
        "        print(f\"NIM: {self.nim}\")\n",
        "        print(f\"IPK: {self.ipk}\")\n",
        "\n",
        "    def hitung_predikat(self):\n",
        "        if self.ipk >= 3.5:\n",
        "            print(\"Predikat: Dengan Pujian\")\n",
        "        elif self.ipk >= 3.0:\n",
        "            print(\"Predikat: Sangat Memuaskan\")\n",
        "        elif self.ipk >= 2.5:\n",
        "            print(\"Predikat: Memuaskan\")\n",
        "        else:\n",
        "            print(\"Predikat: Cukup\")\n",
        "\n",
        "# Kelas Anak 1 - Mahasiswa Sarjana\n",
        "class MahasiswaSarjana(Mahasiswa):\n",
        "    def __init__(self, nama, nim, ipk, semester, sks_lulus):\n",
        "        super().__init__(nama, nim, ipk)\n",
        "        self.semester = semester\n",
        "        self.sks_lulus = sks_lulus\n",
        "\n",
        "    def tampilkan_info(self):\n",
        "        super().tampilkan_info()\n",
        "        print(f\"Semester: {self.semester}\")\n",
        "        print(f\"SKS Lulus: {self.sks_lulus}\")\n",
        "\n",
        "# Kelas Anak 2 - Mahasiswa Magister\n",
        "class MahasiswaMagister(Mahasiswa):\n",
        "    def __init__(self, nama, nim, ipk, judul_tesis, nama_pembimbing):\n",
        "        super().__init__(nama, nim, ipk)\n",
        "        self.judul_tesis = judul_tesis\n",
        "        self.nama_pembimbing = nama_pembimbing\n",
        "\n",
        "    def tampilkan_info(self):\n",
        "        super().tampilkan_info()\n",
        "        print(f\"Judul Tesis: {self.judul_tesis}\")\n",
        "        print(f\"Pembimbing: {self.nama_pembimbing}\")\n",
        "\n",
        "    # Override predikat\n",
        "    def hitung_predikat(self):\n",
        "        if self.ipk >= 3.7:\n",
        "            print(\"Predikat: Lulus dengan Pujian Magister\")\n",
        "        elif self.ipk >= 3.3:\n",
        "            print(\"Predikat: Sangat Memuaskan\")\n",
        "        else:\n",
        "            print(\"Predikat: Memuaskan\")\n",
        "\n",
        "if __name__==\"__main__\":\n",
        "    print(\"=== Mahasiswa Baru ===\")\n",
        "mhs_baru = Mahasiswa(\"Jouhan Johari\", \"202531423\", 3.83)\n",
        "mhs_baru.tampilkan_info()\n",
        "mhs_baru.hitung_predikat()\n",
        "\n",
        "print(\"\\n=== Mahasiswa Sarjana ===\")\n",
        "mhs_s1 = MahasiswaSarjana(\"Muhammad Ramadhan Alfian Nurunnazla\", \"2024160634\", 3.4, semester=2, sks_lulus=23)\n",
        "mhs_s1.tampilkan_info()\n",
        "mhs_s1.hitung_predikat()\n",
        "\n",
        "print(\"\\n=== Mahasiswa Sarjana 2 ===\")\n",
        "mhs_s1b = MahasiswaSarjana(\"Risky Salisa Rahma\", \"20231456732\", 2.3, semester=4, sks_lulus=54)\n",
        "mhs_s1b.tampilkan_info()\n",
        "mhs_s1b.hitung_predikat()\n",
        "\n",
        "print(\"\\n=== Mahasiswa Magister ===\")\n",
        "mhs_s2 = MahasiswaMagister(\"Intan Permata Putri\", \"2021465124\", 3.8, \"Studi Keamanan Sistem IOT Berbasis MQTT\", \"Dr. Yustinus Eko\")\n",
        "mhs_s2.tampilkan_info()\n",
        "mhs_s2.hitung_predikat()\n",
        "\n",
        "print(\"\\n=== Mahasiswa Magister 2 ===\")\n",
        "mhs_s2b = MahasiswaMagister(\"Muhammad Ali Irfan\", \"201927512\", 3.2, \"Optimasi Penggunaan Energi Pada Smart Home\", \"Prof. Bens\")\n",
        "mhs_s2b.tampilkan_info()\n",
        "mhs_s2b.hitung_predikat()"
      ],
      "metadata": {
        "colab": {
          "base_uri": "https://localhost:8080/"
        },
        "id": "w8fPOq5P4QrJ",
        "outputId": "127297ff-9fc8-4119-8ff2-0a69ce3edf4e"
      },
      "execution_count": null,
      "outputs": [
        {
          "output_type": "stream",
          "name": "stdout",
          "text": [
            "=== Mahasiswa Baru ===\n",
            "Nama: Jouhan Johari\n",
            "NIM: 202531423\n",
            "IPK: 3.83\n",
            "Predikat: Dengan Pujian\n",
            "\n",
            "=== Mahasiswa Sarjana ===\n",
            "Nama: Muhammad Ramadhan Alfian Nurunnazla\n",
            "NIM: 2024160634\n",
            "IPK: 3.4\n",
            "Semester: 2\n",
            "SKS Lulus: 23\n",
            "Predikat: Sangat Memuaskan\n",
            "\n",
            "=== Mahasiswa Sarjana 2 ===\n",
            "Nama: Risky Salisa Rahma\n",
            "NIM: 20231456732\n",
            "IPK: 2.3\n",
            "Semester: 4\n",
            "SKS Lulus: 54\n",
            "Predikat: Cukup\n",
            "\n",
            "=== Mahasiswa Magister ===\n",
            "Nama: Intan Permata Putri\n",
            "NIM: 2021465124\n",
            "IPK: 3.8\n",
            "Judul Tesis: Studi Keamanan Sistem IOT Berbasis MQTT\n",
            "Pembimbing: Dr. Yustinus Eko\n",
            "Predikat: Lulus dengan Pujian Magister\n",
            "\n",
            "=== Mahasiswa Magister 2 ===\n",
            "Nama: Muhammad Ali Irfan\n",
            "NIM: 201927512\n",
            "IPK: 3.2\n",
            "Judul Tesis: Optimasi Penggunaan Energi Pada Smart Home\n",
            "Pembimbing: Prof. Bens\n",
            "Predikat: Memuaskan\n"
          ]
        }
      ]
    }
  ]
}