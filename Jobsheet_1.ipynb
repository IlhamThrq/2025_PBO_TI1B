{
  "nbformat": 4,
  "nbformat_minor": 0,
  "metadata": {
    "colab": {
      "provenance": [],
      "authorship_tag": "ABX9TyM0ErgOG6XU0Kig9lmStDj/",
      "include_colab_link": true
    },
    "kernelspec": {
      "name": "python3",
      "display_name": "Python 3"
    },
    "language_info": {
      "name": "python"
    }
  },
  "cells": [
    {
      "cell_type": "markdown",
      "metadata": {
        "id": "view-in-github",
        "colab_type": "text"
      },
      "source": [
        "<a href=\"https://colab.research.google.com/github/IlhamThrq/2025_PBO_TI1B/blob/main/Jobsheet_1.ipynb\" target=\"_parent\"><img src=\"https://colab.research.google.com/assets/colab-badge.svg\" alt=\"Open In Colab\"/></a>"
      ]
    },
    {
      "cell_type": "markdown",
      "source": [
        "JOBSHEET 01 PEMOGRAMAN BERBASIS OBJEK"
      ],
      "metadata": {
        "id": "KKGH0xQu30IT"
      }
    },
    {
      "cell_type": "markdown",
      "source": [
        "PRAKTIKUM 1 TIPE DATA DASAR"
      ],
      "metadata": {
        "id": "7NQ5LKLPQrHE"
      }
    },
    {
      "cell_type": "markdown",
      "source": [
        "Tujuan Instruksional Khusus\n",
        "\n",
        "Setelah menyelesaikan praktikum ini, mahasiswa diharapkan mampu:\n",
        "\n",
        "1.   Mengisntal dan mengonfigurasi lingkungan pemrograman Python dengan benar.\n",
        "2.   Menjelaskan tipe data variabel dan operasi dasar (numerik, string, list, tuple, dan dictionary).\n",
        "3.   Menggunakan variabel dan operasi dasar (aritmeitka, logika, dan perbandingan) pada Python.\n",
        "4.   Menerapkan percabangan (if, if-else, elif) dan perulangan (for, while) dalam program sederhana.\n",
        "\n",
        "\n"
      ],
      "metadata": {
        "id": "7fprz8PF4G6F"
      }
    },
    {
      "cell_type": "code",
      "source": [
        "# 1. Number,Integer,Complex\n",
        "# Integer (int)\n",
        "angka_int = 10\n",
        "print(\"angka_int =\", angka_int, \"->\", type(angka_int))\n",
        "\n",
        "# Float (float)\n",
        "angka_float = 3.14\n",
        "print(\"angka_float =\", angka_float, \"->\", type(angka_float))\n",
        "\n",
        "# Complex\n",
        "angka_complex = 2 + 3j\n",
        "print(\"angka_complex =\", angka_complex, \"->\", type(angka_complex))\n",
        "\n",
        "print(\"noted\")\n",
        "print(\"Integer adalah tipe data untuk bilangan Bulat\")\n",
        "print(\"float adalah tipe data untuk bilangan Desimal/koma\")\n",
        "print(\"complex adalah tipe data untuk bilangan yang terdiri dari bilangan bulat dan bilangan imajiner\")\n",
        "\n",
        "\n"
      ],
      "metadata": {
        "id": "m6WwomyTQ2El"
      },
      "execution_count": null,
      "outputs": []
    },
    {
      "cell_type": "code",
      "source": [
        "angka_int = 10 -> <class 'int'>\n",
        "angka_float = 3.14 -> <class 'float'>\n",
        "angka_complex = (2+3j) -> <class 'complex'>\n",
        "noted\n",
        "Integer adalah tipe data untuk bilangan Bulat\n",
        "float adalah tipe data untuk bilangan Desimal/koma\n",
        "complex adalah tipe data untuk bilangan yang terdiri dari bilangan bulat dan bilangan imajiner"
      ],
      "metadata": {
        "id": "0pI_lTrmRGNt"
      },
      "execution_count": null,
      "outputs": []
    },
    {
      "cell_type": "code",
      "source": [
        "# 2. Boolean\n",
        "is_active = True\n",
        "print(\"is_active =\", is_active, \"->\", type(is_active))\n",
        "print(\"noted\")\n",
        "print(\"Tipe data boolean adalah tipe data yang bernilai True atau False\")\n"
      ],
      "metadata": {
        "id": "ZTPKGzieRcwD"
      },
      "execution_count": null,
      "outputs": []
    },
    {
      "cell_type": "code",
      "source": [
        "is_active = True -> <class 'bool'>\n",
        "noted\n",
        "Tipe data boolean adalah tipe data yang bernilai True atau False"
      ],
      "metadata": {
        "id": "IS7HY2G6RhC7"
      },
      "execution_count": null,
      "outputs": []
    },
    {
      "cell_type": "code",
      "source": [
        "# 3. String\n",
        "teks = \"Hello, Python!\"\n",
        "print(\"teks =\", teks, \"->\", type(teks))\n",
        "print(\"noted: Tipe data String adalah tipe data yang menyimpan nilai huruf/Alfhabet\")\n"
      ],
      "metadata": {
        "id": "7sF9mz4JRlDK"
      },
      "execution_count": null,
      "outputs": []
    },
    {
      "cell_type": "code",
      "source": [
        "teks = Hello, Python! -> <class 'str'>\n",
        "noted: Tipe data String adalah tipe data yang menyimpan nilai huruf/Alfhabet\n"
      ],
      "metadata": {
        "id": "HilsucOdRmb0"
      },
      "execution_count": null,
      "outputs": []
    },
    {
      "cell_type": "code",
      "source": [
        "print(\"4. List\")\n",
        "# List adalah tipe data terurut dan dapat diubah (mutable)\n",
        "daftar_angka = [1, 2, 3, 4, 5]\n",
        "print(\"daftar_angka =\", daftar_angka, \"->\", type(daftar_angka))\n",
        "\n",
        "print(\"\\n5. Tuple\")\n",
        "# Tuple adalah tipe data terurut tetapi tidak dapat diubah (immutable)\n",
        "koordinat = (10, 20)\n",
        "print(\"koordinat =\", koordinat, \"->\", type(koordinat))\n",
        "\n",
        "…# Set adalah tipe data yang tidak terurut, unik (tiap elemen hanya muncul 1x)\n",
        "himpunan_angka = {1, 2, 3, 2, 1}\n",
        "print(\"himpunan_angka =\", himpunan_angka, \"->\", type(himpunan_angka))\n",
        "\n",
        "print(\"\\n8.Contoh penggunaan konversi tipe data\")\n",
        "nilai_str = \"100\"\n",
        "print(\"\\nnilai_str =\", nilai_str, \"->\", type(nilai_str))\n",
        "nilai_int = int(nilai_str)  # konversi string ke integer\n",
        "print(\"nilai_int =\", nilai_int, \"->\", type(nilai_int))\n"
      ],
      "metadata": {
        "id": "TLJmmrmDRpdm"
      },
      "execution_count": null,
      "outputs": []
    },
    {
      "cell_type": "code",
      "source": [
        "4. List\n",
        "daftar_angka = [1, 2, 3, 4, 5] -> <class 'list'>\n",
        "\n",
        "5. Tuple\n",
        "koordinat = (10, 20) -> <class 'tuple'>\n",
        "\n",
        "6. Dictionary\n",
        "data_mahasiswa = {'nama': 'Andi', 'nim': 'A11.2022.12345', 'jurusan': 'Teknik Informatika'} -> <class 'dict'>\n",
        "\n",
        "7. Set\n",
        "himpunan_angka = {1, 2, 3} -> <class 'set'>\n",
        "\n",
        "8.Contoh penggunaan konversi tipe data\n",
        "\n",
        "nilai_str = 100 -> <class 'str'>\n",
        "nilai_int = 100 -> <class 'int'>"
      ],
      "metadata": {
        "id": "2Fkvg73sRyd4"
      },
      "execution_count": null,
      "outputs": []
    }
  ]
}