{
  "nbformat": 4,
  "nbformat_minor": 0,
  "metadata": {
    "colab": {
      "provenance": [],
      "authorship_tag": "ABX9TyMzWSEVcxdNSYJYpvZJJWNm",
      "include_colab_link": true
    },
    "kernelspec": {
      "name": "python3",
      "display_name": "Python 3"
    },
    "language_info": {
      "name": "python"
    }
  },
  "cells": [
    {
      "cell_type": "markdown",
      "metadata": {
        "id": "view-in-github",
        "colab_type": "text"
      },
      "source": [
        "<a href=\"https://colab.research.google.com/github/IlhamThrq/2025_PBO_TI1B/blob/main/Jobsheet_1.ipynb\" target=\"_parent\"><img src=\"https://colab.research.google.com/assets/colab-badge.svg\" alt=\"Open In Colab\"/></a>"
      ]
    },
    {
      "cell_type": "markdown",
      "source": [
        "# Jobsheet 1\n"
      ],
      "metadata": {
        "id": "KKGH0xQu30IT"
      }
    },
    {
      "cell_type": "markdown",
      "source": [],
      "metadata": {
        "id": "xqNCichu3419"
      }
    },
    {
      "cell_type": "markdown",
      "source": [
        "Tujuan Instruksional Khusus\n",
        "\n",
        "Setelah menyelesaikan praktikum ini, mahasiswa diharapkan mampu:\n",
        "\n",
        "1.   Mengisntal dan mengonfigurasi lingkungan pemrograman Python dengan benar.\n",
        "2.   Menjelaskan tipe data variabel dan operasi dasar (numerik, string, list, tuple, dan dictionary).\n",
        "3.   Menggunakan variabel dan operasi dasar (aritmeitka, logika, dan perbandingan) pada Python.\n",
        "4.   Menerapkan percabangan (if, if-else, elif) dan perulangan (for, while) dalam program sederhana.\n",
        "\n",
        "\n"
      ],
      "metadata": {
        "id": "7fprz8PF4G6F"
      }
    }
  ]
}