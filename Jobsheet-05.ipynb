{
  "nbformat": 4,
  "nbformat_minor": 0,
  "metadata": {
    "colab": {
      "provenance": [],
      "authorship_tag": "ABX9TyOMF1JmL1JJoqOcqTrz1tB8",
      "include_colab_link": true
    },
    "kernelspec": {
      "name": "python3",
      "display_name": "Python 3"
    },
    "language_info": {
      "name": "python"
    }
  },
  "cells": [
    {
      "cell_type": "markdown",
      "metadata": {
        "id": "view-in-github",
        "colab_type": "text"
      },
      "source": [
        "<a href=\"https://colab.research.google.com/github/IlhamThrq/2025_PBO_TI1B/blob/main/Jobsheet-05.ipynb\" target=\"_parent\"><img src=\"https://colab.research.google.com/assets/colab-badge.svg\" alt=\"Open In Colab\"/></a>"
      ]
    },
    {
      "cell_type": "markdown",
      "source": [
        "# JOBSHEET 05 : POLIMOFISME DAN MEMAHAMI OVELOADING / OVERRIDING"
      ],
      "metadata": {
        "id": "bXektvETcuw-"
      }
    },
    {
      "cell_type": "markdown",
      "source": [
        "## A. LANGKAH PRAKTIKUM"
      ],
      "metadata": {
        "id": "8Pn9xS6igOxx"
      }
    },
    {
      "cell_type": "markdown",
      "source": [
        "### Praktikum 01: Polimorfisme dengan Inheritance dan Overriding"
      ],
      "metadata": {
        "id": "KxvWlHTQeZm3"
      }
    },
    {
      "cell_type": "markdown",
      "source": [
        "###Praktikum 02: Polimorfisme dengan Duck Typing"
      ],
      "metadata": {
        "id": "xRsnUK5Dei-B"
      }
    },
    {
      "cell_type": "markdown",
      "source": [
        "### Praktikum 03: Simulasi Overloading dalam metode kelas dengan *args"
      ],
      "metadata": {
        "id": "388fuCF5erNh"
      }
    },
    {
      "cell_type": "markdown",
      "source": [
        "### Praktikum 04: Simulasi Overloading dalam Metode Kelas dengan *args dan *kwargs"
      ],
      "metadata": {
        "id": "q7fHjKJpeyUR"
      }
    },
    {
      "cell_type": "markdown",
      "source": [
        "### Praktikum 05: Kombinasi Polimorfisme (Inheritance & Duck Typing)"
      ],
      "metadata": {
        "id": "tt0ycTfxfQqD"
      }
    },
    {
      "cell_type": "markdown",
      "source": [
        "### Praktikum 06: Kontrol Perilaku Polimorfik dengan isinstance()"
      ],
      "metadata": {
        "id": "NGd9YF47fcpi"
      }
    },
    {
      "cell_type": "markdown",
      "source": [
        "## B. PENUGASAN"
      ],
      "metadata": {
        "id": "9wyCFpvHf0Bd"
      }
    }
  ]
}