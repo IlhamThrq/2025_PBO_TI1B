{
  "nbformat": 4,
  "nbformat_minor": 0,
  "metadata": {
    "colab": {
      "provenance": [],
      "authorship_tag": "ABX9TyMnGctE7b+wVrjIrku0+PWx",
      "include_colab_link": true
    },
    "kernelspec": {
      "name": "python3",
      "display_name": "Python 3"
    },
    "language_info": {
      "name": "python"
    }
  },
  "cells": [
    {
      "cell_type": "markdown",
      "metadata": {
        "id": "view-in-github",
        "colab_type": "text"
      },
      "source": [
        "<a href=\"https://colab.research.google.com/github/IlhamThrq/2025_PBO_TI1B/blob/main/Jobsheet-05.ipynb\" target=\"_parent\"><img src=\"https://colab.research.google.com/assets/colab-badge.svg\" alt=\"Open In Colab\"/></a>"
      ]
    },
    {
      "cell_type": "markdown",
      "source": [
        "# JOBSHEET 05 : POLIMOFISME DAN MEMAHAMI OVELOADING / OVERRIDING"
      ],
      "metadata": {
        "id": "bXektvETcuw-"
      }
    },
    {
      "cell_type": "markdown",
      "source": [
        "## A. LANGKAH PRAKTIKUM"
      ],
      "metadata": {
        "id": "8Pn9xS6igOxx"
      }
    },
    {
      "cell_type": "markdown",
      "source": [
        "### Praktikum 01: Polimorfisme dengan Inheritance dan Overriding"
      ],
      "metadata": {
        "id": "KxvWlHTQeZm3"
      }
    },
    {
      "cell_type": "code",
      "source": [
        "# Kelas Induk\n",
        "class Burung:\n",
        "    def __init__(self, nama):\n",
        "        self.nama = nama\n",
        "\n",
        "    def terbang(self):\n",
        "        print(f\"{self.nama} terbang dengan cara umum.\")\n",
        "\n",
        "    def bersuara(self):\n",
        "        print(f\"{self.nama} mengeluarkan suara burung.\")\n",
        "\n",
        "# Kelas Anak 1\n",
        "class Elang(Burung):\n",
        "    def __init__(self, nama, rentang_sayap):\n",
        "        super().__init__(nama)\n",
        "        self.rentang_sayap = rentang_sayap\n",
        "\n",
        "    # Override\n",
        "    def terbang(self):\n",
        "        print(f\"{self.nama} terbang tinggi melayang di angkasa.\")\n",
        "\n",
        "    # Override\n",
        "    def bersuara(self):\n",
        "        print(f\"{self.nama} berteriak nyaring!\")\n",
        "\n",
        "# Kelas Anak 2\n",
        "class Pipit(Burung):\n",
        "    def __init__(self, nama, warna_bulu):\n",
        "        super().__init__(nama)\n",
        "        self.warna_bulu = warna_bulu\n",
        "\n",
        "    # Override\n",
        "    def terbang(self):\n",
        "        print(f\"{self.nama} terbang cepat di antara pepohonan.\")\n",
        "\n",
        "    # Override\n",
        "    def bersuara(self):\n",
        "        print(f\"{self.nama} berkicau merdu: Cit cit!\")\n",
        "\n",
        "# Fungsi yang memanfaatkan polimorfisme\n",
        "def demonstrasi_aksi_burung(daftar_burung):\n",
        "    print(\"\\nAksi Burung:\")\n",
        "    for burung in daftar_burung:\n",
        "        print(f\"-- Aksi untuk {burung.nama} --\")\n",
        "        # Panggilan metode yang sam, tapi perilaku berbeda tergantung objek\n",
        "        burung.terbang()\n",
        "        burung.bersuara()\n",
        "        print(\"-\" * 15)\n",
        "\n",
        "# -- Kode Utama --\n",
        "if __name__ == \"__main__\":\n",
        "    elang_jawa = Elang(\"Elang Jawa\", 1.5)\n",
        "    pipit_gereja = Pipit(\"Pipit Gereja\", \"Coklat\")\n",
        "    burung_aneh = Burung(\"Burung Misterius\") # Objek dari kelas induk\n",
        "\n",
        "    koleksi_burung = [elang_jawa, pipit_gereja, burung_aneh]\n",
        "\n",
        "    demonstrasi_aksi_burung(koleksi_burung)"
      ],
      "metadata": {
        "id": "4y3mVuRNhzuq",
        "outputId": "e42ba5bd-0398-43d1-8cf4-3645d8c4ebf2",
        "colab": {
          "base_uri": "https://localhost:8080/"
        }
      },
      "execution_count": 1,
      "outputs": [
        {
          "output_type": "stream",
          "name": "stdout",
          "text": [
            "\n",
            "Aksi Burung:\n",
            "-- Aksi untuk Elang Jawa --\n",
            "Elang Jawa terbang tinggi melayang di angkasa.\n",
            "Elang Jawa berteriak nyaring!\n",
            "---------------\n",
            "-- Aksi untuk Pipit Gereja --\n",
            "Pipit Gereja terbang cepat di antara pepohonan.\n",
            "Pipit Gereja berkicau merdu: Cit cit!\n",
            "---------------\n",
            "-- Aksi untuk Burung Misterius --\n",
            "Burung Misterius terbang dengan cara umum.\n",
            "Burung Misterius mengeluarkan suara burung.\n",
            "---------------\n"
          ]
        }
      ]
    },
    {
      "cell_type": "markdown",
      "source": [
        "###Praktikum 02: Polimorfisme dengan Duck Typing"
      ],
      "metadata": {
        "id": "xRsnUK5Dei-B"
      }
    },
    {
      "cell_type": "code",
      "source": [
        "class Kucing:\n",
        "    def bersuara(self):\n",
        "        print(\"Kucing: Meow!\")\n",
        "\n",
        "class Anjing:\n",
        "    def bersuara(self):\n",
        "        print(\"Anjing: Guk guk!\")\n",
        "\n",
        "class Bebek:\n",
        "    def bersuara(self):\n",
        "        print(\"Bebek: Kwek kwek!\")\n",
        "\n",
        "class Mobil: # Kelas ini TIDAK punya metode bersuara()\n",
        "    def jalankan(self):\n",
        "        print(\"Mobil: Brumm!\")\n",
        "\n",
        "# Fungsi ini tidak pedulii tipe objeknya,\n",
        "# asal punya metode .bersuara()\n",
        "def buat_suara(objek_yang_bisa_bersuara):\n",
        "    try:\n",
        "        # Memanggil metode 'bersuara' jika ada\n",
        "        objek_yang_bisa_bersuara.bersuara()\n",
        "    except AttributeError:\n",
        "        # Memanggil jika objek tidak punya metode 'bersuara'\n",
        "        print(f\"Objek {type(objek_yang_bisa_bersuara).__name__} tidak bersuara.\")\n",
        "\n",
        "# -- Kode Utama --\n",
        "if __name__ == \"__main__\":\n",
        "    kucing1 = Kucing()\n",
        "    anjing1 = Anjing()\n",
        "    bebek1 = Bebek()\n",
        "    mobil1 = Mobil()\n",
        "\n",
        "    daftar_objek = [kucing1, anjing1, bebek1, mobil1]\n",
        "\n",
        "    print(\"Demonstrasi Duck Typing:\")\n",
        "    for item in daftar_objek:\n",
        "        buat_suara(item) # Fungsi polimorfik via Duck Typing"
      ],
      "metadata": {
        "colab": {
          "base_uri": "https://localhost:8080/"
        },
        "id": "QnOIMwbBmazO",
        "outputId": "174c5a59-b5e0-479a-f342-a8a0d92eb864"
      },
      "execution_count": 3,
      "outputs": [
        {
          "output_type": "stream",
          "name": "stdout",
          "text": [
            "Demonstrasi Duck Typing:\n",
            "Kucing: Meow!\n",
            "Anjing: Guk guk!\n",
            "Bebek: Kwek kwek!\n",
            "Objek Mobil tidak bersuara.\n"
          ]
        }
      ]
    },
    {
      "cell_type": "markdown",
      "source": [
        "### Praktikum 03: Simulasi Overloading dalam metode kelas dengan *args"
      ],
      "metadata": {
        "id": "388fuCF5erNh"
      }
    },
    {
      "cell_type": "code",
      "source": [
        "class KalkulatorSederhana:\n",
        "    def __init__(self, nama=\"Kalkulator\"):\n",
        "        self.nama = nama\n",
        "        print(f\"{self.nama} siap digunakan.\")\n",
        "\n",
        "    def tambah(self, *args):\n",
        "        \"\"\"\n",
        "        Metode ini menjumlahkan semua argumen angka yang diberikan.\n",
        "        Menerima sejumlah arrgumen posisi menggunakan *args.\n",
        "        \"\"\"\n",
        "        print(f\"\\nMemanggil metode tambah dengan argumen: {args}\")\n",
        "        if not args:\n",
        "            print(\"Tidak ada angka untuk dijumlahkan.\")\n",
        "            return 0 # Atau bisa juga None atau raise error\n",
        "\n",
        "        total = 0\n",
        "        valid_input = True\n",
        "        for angka in args:\n",
        "            # Melakukan pengecekan tipe sederhana\n",
        "            if isinstance(angka, (int, float)):\n",
        "                total += angka\n",
        "            else:\n",
        "                print(f\"Peringatan: Argumen '{angka}' bukan angka dan akan diabaikan.\")\n",
        "                valid_input = False\n",
        "\n",
        "        if valid_input:\n",
        "            print(f\"Hasil penjumlahan: {total}\")\n",
        "        else:\n",
        "            print(f\"Hasil penjumlahan (dengan beberapa input diabaikan): {total}\")\n",
        "        return total\n",
        "\n",
        "# --- Kode Utama ---\n",
        "if __name__ == \"__main__\":\n",
        "    calc = KalkulatorSederhana(\"Calc-01\")\n",
        "\n",
        "    # Memanggil metode 'tambah' dengan jumlah argumen berbeda\n",
        "    print(\"\\n--- Percobaan Penjumlahan ---\")\n",
        "    calc.tambah(5, 10)\n",
        "    calc.tambah(2, 3, 5, 10)\n",
        "    calc.tambah(100)\n",
        "    calc.tambah() # Tanpa Argumen\n",
        "    calc.tambah(1, 2, \"tiga\", 4, 5.5) # Dengan input non-angka"
      ],
      "metadata": {
        "colab": {
          "base_uri": "https://localhost:8080/"
        },
        "id": "pvzhdMc9pk73",
        "outputId": "a636ea4d-6c7a-44b3-a982-89e99a95de4e"
      },
      "execution_count": 5,
      "outputs": [
        {
          "output_type": "stream",
          "name": "stdout",
          "text": [
            "Calc-01 siap digunakan.\n",
            "\n",
            "--- Percobaan Penjumlahan ---\n",
            "\n",
            "Memanggil metode tambah dengan argumen: (5, 10)\n",
            "Hasil penjumlahan: 15\n",
            "\n",
            "Memanggil metode tambah dengan argumen: (2, 3, 5, 10)\n",
            "Hasil penjumlahan: 20\n",
            "\n",
            "Memanggil metode tambah dengan argumen: (100,)\n",
            "Hasil penjumlahan: 100\n",
            "\n",
            "Memanggil metode tambah dengan argumen: ()\n",
            "Tidak ada angka untuk dijumlahkan.\n",
            "\n",
            "Memanggil metode tambah dengan argumen: (1, 2, 'tiga', 4, 5.5)\n",
            "Peringatan: Argumen 'tiga' bukan angka dan akan diabaikan.\n",
            "Hasil penjumlahan (dengan beberapa input diabaikan): 12.5\n"
          ]
        }
      ]
    },
    {
      "cell_type": "markdown",
      "source": [
        "### Praktikum 04: Simulasi Overloading dalam Metode Kelas dengan *args dan *kwargs"
      ],
      "metadata": {
        "id": "q7fHjKJpeyUR"
      }
    },
    {
      "cell_type": "code",
      "source": [
        "class DataProcessor:\n",
        "    def __init__(self, processor_id):\n",
        "        self.processor_id = processor_id\n",
        "        print(f\"Data Processor {self.processor_id} siap.\")\n",
        "\n",
        "    def process(self, *args, **kwargs):\n",
        "        \"\"\"\n",
        "        Metode ini memproses data dengan argumen posisi (*args)\n",
        "        dan kata kunci (**kwargs) yang jumlahnya variabel.\n",
        "        \"\"\"\n",
        "        print(f\"\\n--- {self.processor_id} Memproses Data ---\")\n",
        "\n",
        "        # Memproses argumen posisi (*args -> tupple)\n",
        "        if args:\n",
        "            print(\"Argumen Posisi Diterima:\")\n",
        "            for i, arg in enumerate(args):\n",
        "                print(f\" args[{i}]: {args} (tipe: {type(arg).__name__})\")\n",
        "        else:\n",
        "            print(\"Tidak ada argumen posisi.\")\n",
        "\n",
        "        # Memproses argumen kata kunci (**kwargs -> dict)\n",
        "        if kwargs:\n",
        "            print(\"\\nArgumen Kata Kunci Diterima:\")\n",
        "            for kunci, nilai in kwargs.items():\n",
        "                print(f\"{kunci}: {nilai} (tipe: {type(nilai).__name__})\")\n",
        "        else:\n",
        "            print(\"Tidak ada argumen kata kunci.\")\n",
        "        print(\"---------------------------------\")\n",
        "\n",
        "# --- Kode Utama ---\n",
        "if __name__ == \"__main__\":\n",
        "    # Membuat instance dari kelas\n",
        "    processor1 = DataProcessor(\"DP-001\")\n",
        "\n",
        "    # Memanggil metode 'process' dengan berbagai cara\n",
        "    print(\"\\nPanggilan 1: Tanpa argumen tambahan\")\n",
        "    processor1.process()\n",
        "\n",
        "    print(\"\\nPanggilan 2: Hanya argumen posisi\")\n",
        "    processor1.process(100, \"Status OK\", 99.9, False)\n",
        "\n",
        "    print(\"\\nPanggilan 3: Hanya argumen kata kunci\")\n",
        "    processor1.process(user=\"admin\", level=5, mode=\"verbose\")\n",
        "\n",
        "    print(\"\\nPanggilan 4: Kombinasi argumen posisi dan kata kunci\")\n",
        "    processor1.process(\"Task-A\", \"Task-B\", status=\"Running\", priority=\"High\", thread_id=54321)\n",
        "\n",
        "    # Panggilan dengan list dan dictionary sebagai argumen posisi\n",
        "    print(\"\\nPanggila 5: Argumen posisi kompleks\")\n",
        "    list_ids = [\"A1\", \"B2\", \"C3\"]\n",
        "    dict_params = {\"timeout\": 30, \"retry\": 3}\n",
        "    processor1.process(list_ids, dict_params, owner=\"System\", enabled=True)"
      ],
      "metadata": {
        "colab": {
          "base_uri": "https://localhost:8080/"
        },
        "id": "Bp4T0MEctGjn",
        "outputId": "c9d19cf5-b9cb-48c7-9521-9c6266b115ac"
      },
      "execution_count": 9,
      "outputs": [
        {
          "output_type": "stream",
          "name": "stdout",
          "text": [
            "Data Processor DP-001 siap.\n",
            "\n",
            "Panggilan 1: Tanpa argumen tambahan\n",
            "\n",
            "--- DP-001 Memproses Data ---\n",
            "Tidak ada argumen posisi.\n",
            "Tidak ada argumen kata kunci.\n",
            "---------------------------------\n",
            "\n",
            "Panggilan 2: Hanya argumen posisi\n",
            "\n",
            "--- DP-001 Memproses Data ---\n",
            "Argumen Posisi Diterima:\n",
            " args[0]: (100, 'Status OK', 99.9, False) (tipe: int)\n",
            " args[1]: (100, 'Status OK', 99.9, False) (tipe: str)\n",
            " args[2]: (100, 'Status OK', 99.9, False) (tipe: float)\n",
            " args[3]: (100, 'Status OK', 99.9, False) (tipe: bool)\n",
            "Tidak ada argumen kata kunci.\n",
            "---------------------------------\n",
            "\n",
            "Panggilan 3: Hanya argumen kata kunci\n",
            "\n",
            "--- DP-001 Memproses Data ---\n",
            "Tidak ada argumen posisi.\n",
            "\n",
            "Argumen Kata Kunci Diterima:\n",
            "user: admin (tipe: str)\n",
            "level: 5 (tipe: int)\n",
            "mode: verbose (tipe: str)\n",
            "---------------------------------\n",
            "\n",
            "Panggilan 4: Kombinasi argumen posisi dan kata kunci\n",
            "\n",
            "--- DP-001 Memproses Data ---\n",
            "Argumen Posisi Diterima:\n",
            " args[0]: ('Task-A', 'Task-B') (tipe: str)\n",
            " args[1]: ('Task-A', 'Task-B') (tipe: str)\n",
            "\n",
            "Argumen Kata Kunci Diterima:\n",
            "status: Running (tipe: str)\n",
            "priority: High (tipe: str)\n",
            "thread_id: 54321 (tipe: int)\n",
            "---------------------------------\n",
            "\n",
            "Panggila 5: Argumen posisi kompleks\n",
            "\n",
            "--- DP-001 Memproses Data ---\n",
            "Argumen Posisi Diterima:\n",
            " args[0]: (['A1', 'B2', 'C3'], {'timeout': 30, 'retry': 3}) (tipe: list)\n",
            " args[1]: (['A1', 'B2', 'C3'], {'timeout': 30, 'retry': 3}) (tipe: dict)\n",
            "\n",
            "Argumen Kata Kunci Diterima:\n",
            "owner: System (tipe: str)\n",
            "enabled: True (tipe: bool)\n",
            "---------------------------------\n"
          ]
        }
      ]
    },
    {
      "cell_type": "markdown",
      "source": [
        "### Praktikum 05: Kombinasi Polimorfisme (Inheritance & Duck Typing)"
      ],
      "metadata": {
        "id": "tt0ycTfxfQqD"
      }
    },
    {
      "cell_type": "code",
      "source": [
        "import math\n",
        "\n",
        "# --- Definisi kelas dari Hierarki Inheritance ---\n",
        "class Bentuk:\n",
        "    # Metode ini bisa dianggap sebagai 'template' atau interface dasar\n",
        "    def nama_bentuk(self):\n",
        "        return \"Bentuk Generik\"\n",
        "\n",
        "    # Metode ini wajib di-override oleh subclass\n",
        "    def hitung_luas(self):\n",
        "        raise NotImplementedError(\"Subclass harus mengimplementasikan metode ini\")\n",
        "\n",
        "class Lingkaran(Bentuk):\n",
        "    def __init__(self, radius):\n",
        "        self.radius = radius\n",
        "\n",
        "    # Override\n",
        "    def nama_bentuk(self):\n",
        "        return \"Linkaran\"\n",
        "\n",
        "    # Override\n",
        "    def hitung_luas(self):\n",
        "        return math.pi * (self.radius ** 2)\n",
        "\n",
        "class Persegi(Bentuk):\n",
        "    def __init__(self, sisi):\n",
        "        self.sisi = sisi\n",
        "\n",
        "    # Override\n",
        "    def nama_bentuk(self):\n",
        "        return \"Persegi\"\n",
        "\n",
        "    # Override\n",
        "    def hitung_luas(self):\n",
        "        return self.sisi * self.sisi\n",
        "\n",
        "# --- Definisi Kelas Lain (Tidak Terikat Inheritance dengan Bentuk) ---\n",
        "class TaplakMeja:\n",
        "    def __init__(self, panjang, lebar):\n",
        "        self.panjang = panjang\n",
        "        self.lebar = lebar\n",
        "\n",
        "    # Metode dengan nama sama -> 'hitung_luas'\n",
        "    # Ini memungkinkan TaplakMeja bekerja dengan fungsi polimorfik di bawah\n",
        "    def hitung_luas(self):\n",
        "        return self.panjang * self.lebar\n",
        "\n",
        "    # Metode yang berbeda, tidak ada di kelas Bentuk\n",
        "    def deskripsi(self):\n",
        "        return f\"Taplak Meja {self.panjang}x{self.lebar}\"\n",
        "\n",
        "# --- Fungsi Polimorfik ---\n",
        "def tampilkan_info_luas(objek_dengan_luas):\n",
        "    print(\"-\" * 20)\n",
        "    try:\n",
        "        # Mencoba memanggil hitung_luas() - inti polimorfisme\n",
        "        luas = objek_dengan_luas.hitung_luas()\n",
        "\n",
        "        # Mencoba mendapatkan nama jika ada (Duck Typing tambahan)\n",
        "        try:\n",
        "            nama = objek_dengan_luas.nama_bentuk()\n",
        "        except AttributeError:\n",
        "            # Jika tidak ada nama_bentuk(), gunakan nama kelasnya\n",
        "            nama = type(objek_dengan_luas).__name__\n",
        "\n",
        "        print(f\"Objek: {nama}\")\n",
        "        print(f\"Luas: {luas:.2f}\") # Format luas 2 angka desimal\n",
        "\n",
        "    except AttributeError:\n",
        "        # Menangani jika objek sama sekali tidak punya .hitung_luas()\n",
        "        print(f\"Objek {type(objek_dengan_luas).__name__} tidak dapat dihitung luasnya (metode tidak ditemukan.)\")\n",
        "    except NotImplementedError:\n",
        "        # Menangani jika metode ada tapi belom di implementasi (dari kelas Bentuk)\n",
        "        print(f\"Metode 'hitung_luas' belum diimplementasi untuk {type(objek_dengan_luas).__name__}\")\n",
        "\n",
        "# --- Kode Utama ---\n",
        "if __name__ == \"__main__\":\n",
        "    lingkaran1 = Lingkaran(7)\n",
        "    persegi1 = Persegi(5)\n",
        "    taplak1 = TaplakMeja(1.5, 0.8)\n",
        "    bentuk_dasar = Bentuk() # Objek kelas induk (akan raise NotImplementedError)\n",
        "    string_biasa = \"Ini string\" # Objek yang tidak relevan\n",
        "\n",
        "    daftar_item = [lingkaran1, persegi1, taplak1, bentuk_dasar, string_biasa]\n",
        "\n",
        "    print(\"Menampilkan Info Luas (Polimorfisme Campuran):\")\n",
        "    for item in daftar_item:\n",
        "        tampilkan_info_luas(item)\n"
      ],
      "metadata": {
        "colab": {
          "base_uri": "https://localhost:8080/"
        },
        "id": "0VQDKIOa0QL8",
        "outputId": "6f676f5d-3b8d-495a-f08c-33035b5353e3"
      },
      "execution_count": 11,
      "outputs": [
        {
          "output_type": "stream",
          "name": "stdout",
          "text": [
            "Menampilkan Info Luas (Polimorfisme Campuran):\n",
            "--------------------\n",
            "Objek: Linkaran\n",
            "Luas: 153.94\n",
            "--------------------\n",
            "Objek: Persegi\n",
            "Luas: 25.00\n",
            "--------------------\n",
            "Objek: TaplakMeja\n",
            "Luas: 1.20\n",
            "--------------------\n",
            "Metode 'hitung_luas' belum diimplementasi untuk Bentuk\n",
            "--------------------\n",
            "Objek str tidak dapat dihitung luasnya (metode tidak ditemukan.)\n"
          ]
        }
      ]
    },
    {
      "cell_type": "markdown",
      "source": [
        "### Praktikum 06: Kontrol Perilaku Polimorfik dengan isinstance()"
      ],
      "metadata": {
        "id": "NGd9YF47fcpi"
      }
    },
    {
      "cell_type": "code",
      "source": [
        "# --- Definisi Kelas Burung, Elang, Pipit ---\n",
        "class Burung:\n",
        "    def __init__(self, nama):\n",
        "        self.nama = nama\n",
        "    def terbang(self):\n",
        "        print(f\"{self.nama} terbang dengan cara umum.\")\n",
        "    def bersuara(self):\n",
        "        print(f\"{self.nama} mengeluarkan suara burung.\")\n",
        "\n",
        "class Elang(Burung):\n",
        "    def __init__(self, nama, rentang_sayap):\n",
        "        super().__init__(nama)\n",
        "        self.rentang_sayap = rentang_sayap\n",
        "    # Override\n",
        "    def terbang(self):\n",
        "        print(f\"{self.nama} terbang tinggi melayang di angkasa.\")\n",
        "    # Override\n",
        "    def bersuara(self):\n",
        "        print(f\"{self.nama} berteriak nyaring!\")\n",
        "    # Metode khusus Elang\n",
        "    def berburu(self):\n",
        "        print(f\"{self.nama} sedang mencari mangsa dari ketinggian.\")\n",
        "\n",
        "class Pipit(Burung):\n",
        "    def __init__(self, nama, warna_bulu):\n",
        "        super().__init__(nama)\n",
        "        self.warna_bulu = warna_bulu\n",
        "    # Override\n",
        "    def terbang(self):\n",
        "        print(f\"{self.nama} terbang cepat di antara pepohonan.\")\n",
        "    # Override\n",
        "    def bersuara(self):\n",
        "        print(f\"{self.nama} berkicau merdu: Cit cit!\")\n",
        "    # Metode khusus Pipit\n",
        "    def membangun_sarang(self):\n",
        "        print(f\"{self.nama} sedang mengumpulkan ranting untuk sarang.\")\n",
        "\n",
        "# --- Fungsi yang memanfaatkan polimorfisme dan Isinstanc() ---\n",
        "def interaksi_dengan_burung(burung):\n",
        "    print(f\"\\n--- Berinteraksi dengan {type(burung).__name__}: {getattr(burung, 'nama', 'objek tidak dikenali')} ---.\")\n",
        "\n",
        "    # Cek dulu apakah objek adalah instance dari burung turunannya\n",
        "    if isinstance(burung, Burung):\n",
        "        # Perilaku polomorfik dasar (memanggil metode override)\n",
        "        burung.terbang()\n",
        "        burung.bersuara()\n",
        "\n",
        "        # Menambahkkan perilaku spesifik berdasarkan tipe turunan\n",
        "        if isinstance(burung, Elang):\n",
        "            print(\"-> Ini adalah Elang!\")\n",
        "            burung.berburu() # Panggil metode khusus Elang\n",
        "        elif isinstance(burung, Pipit):\n",
        "            print(\"-> Ini adalah Pipit!\")\n",
        "            burung.membangun_sarang() # Panggil metode khusus Pipit\n",
        "        else:\n",
        "            # Hanya Burung generik, bukan turunan spesifik yang dikenali\n",
        "            print(\"-> Ini adalah burung jenis umum (bukan Elang/Pipit).\")\n",
        "    else:\n",
        "        # Jika objek BUKAN instance Burung sama sekali\n",
        "        print(\"-> Objek ini bukan termasuk jenis Burung.\")\n",
        "    print(\"_\" * 25)\n",
        "\n",
        "# --- Kode Utama\n",
        "if __name__ == \"__main__\":\n",
        "    elang_sumatra = Elang(\"Elang Sumatra\", 1.8)\n",
        "    pipit_rumah = Pipit(\"Pipit Rumah\", \"Abu-abu\")\n",
        "    merak = Burung(\"Merak\") # Contoh Burung lain (induk)\n",
        "    kucing_tetangga = \"Meong\" # Objek non-burung\n",
        "\n",
        "    koleksi_makhluk = [elang_sumatra, pipit_rumah, merak, kucing_tetangga]\n",
        "\n",
        "    for makhluk in koleksi_makhluk:\n",
        "        interaksi_dengan_burung(makhluk)"
      ],
      "metadata": {
        "colab": {
          "base_uri": "https://localhost:8080/"
        },
        "id": "Sk3u2Zdw7y7W",
        "outputId": "6a9c1de0-f584-4780-8412-757aa1ee2e95"
      },
      "execution_count": 19,
      "outputs": [
        {
          "output_type": "stream",
          "name": "stdout",
          "text": [
            "\n",
            "--- Berinteraksi dengan Elang: Elang Sumatra ---.\n",
            "Elang Sumatra terbang tinggi melayang di angkasa.\n",
            "Elang Sumatra berteriak nyaring!\n",
            "-> Ini adalah Elang!\n",
            "Elang Sumatra sedang mencari mangsa dari ketinggian.\n",
            "_________________________\n",
            "\n",
            "--- Berinteraksi dengan Pipit: Pipit Rumah ---.\n",
            "Pipit Rumah terbang cepat di antara pepohonan.\n",
            "Pipit Rumah berkicau merdu: Cit cit!\n",
            "-> Ini adalah Pipit!\n",
            "Pipit Rumah sedang mengumpulkan ranting untuk sarang.\n",
            "_________________________\n",
            "\n",
            "--- Berinteraksi dengan Burung: Merak ---.\n",
            "Merak terbang dengan cara umum.\n",
            "Merak mengeluarkan suara burung.\n",
            "-> Ini adalah burung jenis umum (bukan Elang/Pipit).\n",
            "_________________________\n",
            "\n",
            "--- Berinteraksi dengan str: objek tidak dikenali ---.\n",
            "-> Objek ini bukan termasuk jenis Burung.\n",
            "_________________________\n"
          ]
        }
      ]
    },
    {
      "cell_type": "markdown",
      "source": [
        "## B. PENUGASAN"
      ],
      "metadata": {
        "id": "9wyCFpvHf0Bd"
      }
    },
    {
      "cell_type": "code",
      "source": [
        "# --- Definisi Kelas Induk dan Anak ---\n",
        "class Komputer:\n",
        "    def __init__(self, merk, processor, ram_gb):\n",
        "        self.merk = merk\n",
        "        self.processor = processor\n",
        "        self.ram_gb = ram_gb\n",
        "\n",
        "    def info_spesifikasi(self):\n",
        "        print(f\"Merk: {self.merk}\")\n",
        "        print(f\"Processor: {self.processor}\")\n",
        "        print(f\"RAM: {self.ram_gb} GB\")\n",
        "\n",
        "    def jalankan_aplikasi(self, nama_aplikasi):\n",
        "        print(f\"{self.merk} menjalankan aplikasi: {nama_aplikasi}...\")\n",
        "\n",
        "    def upgrade_ram(self, tambahan_gb, tipe_ram=\"DDR4\"):\n",
        "        self.ram_gb += tambahan_gb\n",
        "        print(f\"RAM {self.merk} diupgrade sebesar {tambahan_gb} GB (Tipe: {tipe_ram}).\")\n",
        "        print(f\"Total RAM sekarang: {self.ram_gb} GB\")\n",
        "\n",
        "class Laptop(Komputer):\n",
        "    def __init__(self, merk, processor, ram_gb, ukuran_layar_inch, berat_kg):\n",
        "        super().__init__(merk, processor, ram_gb)\n",
        "        self.ukuran_layar_inch = ukuran_layar_inch\n",
        "        self.berat_kg = berat_kg\n",
        "\n",
        "    def info_spesifikasi(self):\n",
        "        super().info_spesifikasi()\n",
        "        print(f\"Ukuran Layar: {self.ukuran_layar_inch} inch\")\n",
        "        print(f\"Berat: {self.berat_kg} Kg\")\n",
        "\n",
        "class Desktop(Komputer):\n",
        "    def __init__(self, merk, processor, ram_gb, jenis_casing, monitor_external):\n",
        "        super().__init__(merk, processor, ram_gb)\n",
        "        self.jenis_casing = jenis_casing\n",
        "        self.monitor_external = monitor_external\n",
        "\n",
        "    def info_spesifikasi(self):\n",
        "        super().info_spesifikasi()\n",
        "        print(f\"Jenis Casing: {self.jenis_casing}\")\n",
        "        print(f\"Monitor External: {'Ya' if self.monitor_external else 'Tidak'}\")\n",
        "\n",
        "# --- Fungsi Polimorfisme ---\n",
        "def cetak_semua_spesifikasi(daftar_komputer):\n",
        "    print(\"\\n=== Daftar Spesifikasi Komputer ===\")\n",
        "    for komputer in daftar_komputer:\n",
        "        komputer.info_spesifikasi()\n",
        "        print(\"-\" * 30)\n",
        "\n",
        "# --- Kode Utama ---\n",
        "if __name__ == \"__main__\":\n",
        "    # Buat objek Laptop dan Desktop\n",
        "    laptop_ku = Laptop(\"Asus VivoBook\", \"Intel i5\", 8, 14.0, 1.5)\n",
        "    desktop_ku = Desktop(\"Lenovo ThinkCentre\", \"AMD Ryzen 5\", 16, \"Tower\", True)\n",
        "\n",
        "    # Masukkan ke dalam list\n",
        "    daftar_komputer = [laptop_ku, desktop_ku]\n",
        "\n",
        "    # Polimorfisme\n",
        "    cetak_semua_spesifikasi(daftar_komputer)\n",
        "\n",
        "    # Demonstrasi overloading dengan default argument\n",
        "    print(\"\\n=== Upgrade RAM Laptop ===\")\n",
        "    laptop_ku.upgrade_ram(4)  # Default tipe DDR4\n",
        "\n",
        "    print(\"\\n=== Upgrade RAM Desktop ===\")\n",
        "    desktop_ku.upgrade_ram(8, \"DDR5\")\n"
      ],
      "metadata": {
        "id": "BC5GNSAMG875",
        "outputId": "092ad698-ba9c-4d57-c2bf-fdb1513e88f2",
        "colab": {
          "base_uri": "https://localhost:8080/"
        }
      },
      "execution_count": 20,
      "outputs": [
        {
          "output_type": "stream",
          "name": "stdout",
          "text": [
            "\n",
            "=== Daftar Spesifikasi Komputer ===\n",
            "Merk: Asus VivoBook\n",
            "Processor: Intel i5\n",
            "RAM: 8 GB\n",
            "Ukuran Layar: 14.0 inch\n",
            "Berat: 1.5 Kg\n",
            "------------------------------\n",
            "Merk: Lenovo ThinkCentre\n",
            "Processor: AMD Ryzen 5\n",
            "RAM: 16 GB\n",
            "Jenis Casing: Tower\n",
            "Monitor External: Ya\n",
            "------------------------------\n",
            "\n",
            "=== Upgrade RAM Laptop ===\n",
            "RAM Asus VivoBook diupgrade sebesar 4 GB (Tipe: DDR4).\n",
            "Total RAM sekarang: 12 GB\n",
            "\n",
            "=== Upgrade RAM Desktop ===\n",
            "RAM Lenovo ThinkCentre diupgrade sebesar 8 GB (Tipe: DDR5).\n",
            "Total RAM sekarang: 24 GB\n"
          ]
        }
      ]
    }
  ]
}